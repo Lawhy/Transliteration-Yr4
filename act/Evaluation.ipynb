{
 "cells": [
  {
   "cell_type": "code",
   "execution_count": 2,
   "metadata": {},
   "outputs": [],
   "source": [
    "import pandas as pd\n",
    "import torch as th\n",
    "import numpy as np\n",
    "from Levenshtein import distance"
   ]
  },
  {
   "cell_type": "code",
   "execution_count": 3,
   "metadata": {},
   "outputs": [],
   "source": [
    "act = pd.read_excel('wer-tools/act.xlsx', encoding='UTF-8')\n",
    "act['alternative_characters'] = act['alternative_characters'].apply(lambda x: x.split(','))\n",
    "act = act['alternative_characters']"
   ]
  },
  {
   "cell_type": "code",
   "execution_count": 4,
   "metadata": {},
   "outputs": [],
   "source": [
    "def text_to_df(path_pred, path_gold):\n",
    "    with open(path_pred, 'r', encoding='UTF-8-sig') as f:\n",
    "        lines_pred = f.readlines()\n",
    "    with open(path_gold, 'r', encoding='UTF-8-sig') as f:\n",
    "        lines_gold = f.readlines()\n",
    "    df = pd.DataFrame(columns=['pred', 'gold'])\n",
    "    df['pred'] = lines_pred\n",
    "    df['gold'] = lines_gold\n",
    "    df['pred'] = df['pred'].apply(lambda w: w.replace('\\n', '').replace(' ', ''))\n",
    "    df['gold'] = df['gold'].apply(lambda w: w.replace('\\n', '').replace(' ', ''))\n",
    "    return df"
   ]
  },
  {
   "cell_type": "code",
   "execution_count": 5,
   "metadata": {},
   "outputs": [],
   "source": [
    "def WER(df):   \n",
    "    \n",
    "    # calculate MED\n",
    "    dist = df.apply(lambda x: distance(x['pred'], x['gold']), axis=1)\n",
    "    \n",
    "    # zero MED means correct\n",
    "    correct = np.sum(dist == 0)\n",
    "    n = len(df)\n",
    "    wer = 1 - (correct / n)\n",
    "    \n",
    "    # extract those with MED 1 or 2 and look up the ACT\n",
    "    for_act = df[(dist > 0) & (dist <= 2)]\n",
    "    print('The number of pred/gold pairs with MED of 1 or 2 is', len(for_act))\n",
    "    correct_act = np.sum(for_act.apply(lambda x: look_up_ACT(x['pred'], x['gold']), axis=1))\n",
    "    print('The number of replaceable names is', correct_act)\n",
    "    wer_act = 1 - ((correct + correct_act) / n)\n",
    "    \n",
    "    return {\n",
    "        'wer': wer,\n",
    "        'wer-act': wer_act\n",
    "    }\n"
   ]
  },
  {
   "cell_type": "code",
   "execution_count": 6,
   "metadata": {},
   "outputs": [],
   "source": [
    "def look_up_ACT(pred, gold):\n",
    "    \n",
    "    # Method that examines if pred and gold are equivalent \n",
    "    # after looking up Alternating Character Table.\n",
    "    # Check of the MED is done before this method.\n",
    "    \n",
    "    global act # each cell contains a list of alternating chars\n",
    "    \n",
    "    # The primary assumption requires pred and gold to be of the same length\n",
    "    if not len(pred) == len(gold):\n",
    "        return False\n",
    "    \n",
    "    for i in range(len(pred)):\n",
    "        # everytime find two distinct characters at the same position, check the table\n",
    "        if not pred[i] == gold[i]:\n",
    "            replaceable = any(act.apply(lambda x: (pred[i] in x) and (gold[i] in x)))\n",
    "            if not replaceable:\n",
    "                return False\n",
    "    \n",
    "    # all the distinct characters are 'replaceable' in ACT\n",
    "    return True"
   ]
  },
  {
   "cell_type": "code",
   "execution_count": 7,
   "metadata": {},
   "outputs": [],
   "source": [
    "ch_dev = text_to_df('baseline_en2ch/result/bs_dev.txt', 'data/ch_dev.txt')\n",
    "ch_tst = text_to_df('baseline_en2ch/result/bs_tst.txt', 'data/ch_tst.txt')"
   ]
  },
  {
   "cell_type": "code",
   "execution_count": 8,
   "metadata": {},
   "outputs": [
    {
     "name": "stdout",
     "output_type": "stream",
     "text": [
      "The number of pred/gold pairs with MED of 1 or 2 is 1561\n",
      "The number of replaceable names is 128\n"
     ]
    },
    {
     "data": {
      "text/plain": [
       "{'wer': 0.28242964996568287, 'wer-act': 0.2604667124227865}"
      ]
     },
     "execution_count": 8,
     "metadata": {},
     "output_type": "execute_result"
    }
   ],
   "source": [
    "WER(ch_dev)"
   ]
  },
  {
   "cell_type": "code",
   "execution_count": 9,
   "metadata": {},
   "outputs": [
    {
     "name": "stdout",
     "output_type": "stream",
     "text": [
      "The number of pred/gold pairs with MED of 1 or 2 is 1577\n",
      "The number of replaceable names is 122\n"
     ]
    },
    {
     "data": {
      "text/plain": [
       "{'wer': 0.2834591626630062, 'wer-act': 0.26252573781743305}"
      ]
     },
     "execution_count": 9,
     "metadata": {},
     "output_type": "execute_result"
    }
   ],
   "source": [
    "WER(ch_tst)"
   ]
  },
  {
   "cell_type": "code",
   "execution_count": null,
   "metadata": {},
   "outputs": [],
   "source": [
    "pinyin_dev_gold = text_to_df('data/pinyin_dev.txt')\n",
    "pinyin_tst_gold = text_to_df('data/pinyin_tst.txt')\n",
    "pinyin_dev_pred = text_to_df('baseline_en2pinyin/result/bs_dev.txt')\n",
    "pinyin_tst_pred = text_to_df('baseline_en2pinyin/result/bs_tst.txt')"
   ]
  },
  {
   "cell_type": "code",
   "execution_count": null,
   "metadata": {},
   "outputs": [],
   "source": [
    "pinyin_no_tone_dev_gold = text_to_df('data/pinyin_no_tone_dev.txt')\n",
    "pinyin_no_tone_tst_gold = text_to_df('data/pinyin_no_tone_tst.txt')\n",
    "pinyin_no_tone_dev_pred = text_to_df('baseline_en2pinyin_no_tone/result/bs_dev.txt')\n",
    "pinyin_no_tone_tst_pred = text_to_df('baseline_en2pinyin_no_tone/result/bs_tst.txt')"
   ]
  },
  {
   "cell_type": "code",
   "execution_count": null,
   "metadata": {},
   "outputs": [],
   "source": [
    "wer = pd.DataFrame(columns=['dev', 'tst'], index=['ch', 'pinyin', 'pinyin_no_tone'])"
   ]
  },
  {
   "cell_type": "code",
   "execution_count": null,
   "metadata": {},
   "outputs": [],
   "source": [
    "wer.loc['ch'] = [WER(ch_dev_gold, ch_dev_pred), WER(ch_tst_gold, ch_tst_pred)]\n",
    "wer.loc['pinyin'] = [WER(pinyin_dev_gold, pinyin_dev_pred), WER(pinyin_tst_gold, pinyin_tst_pred)]\n",
    "wer.loc['pinyin_no_tone'] = [WER(pinyin_no_tone_dev_gold, pinyin_no_tone_dev_pred), WER(pinyin_no_tone_tst_gold, pinyin_no_tone_tst_pred)]"
   ]
  },
  {
   "cell_type": "code",
   "execution_count": null,
   "metadata": {},
   "outputs": [],
   "source": [
    "wer"
   ]
  },
  {
   "cell_type": "code",
   "execution_count": null,
   "metadata": {},
   "outputs": [],
   "source": [
    "ch_dev_pred_bridge = text_to_df('baseline_en2ch/with_bridge/result/bs_dev.txt')\n",
    "ch_tst_pred_bridge = text_to_df('baseline_en2ch/with_bridge/result/bs_tst.txt')"
   ]
  },
  {
   "cell_type": "code",
   "execution_count": null,
   "metadata": {},
   "outputs": [],
   "source": [
    "print([WER(ch_dev_gold, ch_dev_pred_bridge), WER(ch_tst_gold, ch_tst_pred_bridge)])"
   ]
  },
  {
   "cell_type": "code",
   "execution_count": null,
   "metadata": {},
   "outputs": [],
   "source": []
  },
  {
   "cell_type": "code",
   "execution_count": null,
   "metadata": {},
   "outputs": [],
   "source": [
    "pd.read_csv('ipa.csv', encoding='UTF-8')"
   ]
  }
 ],
 "metadata": {
  "kernelspec": {
   "display_name": "Python 3",
   "language": "python",
   "name": "python3"
  },
  "language_info": {
   "codemirror_mode": {
    "name": "ipython",
    "version": 3
   },
   "file_extension": ".py",
   "mimetype": "text/x-python",
   "name": "python",
   "nbconvert_exporter": "python",
   "pygments_lexer": "ipython3",
   "version": "3.7.3"
  }
 },
 "nbformat": 4,
 "nbformat_minor": 2
}
