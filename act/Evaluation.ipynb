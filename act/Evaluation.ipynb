{
 "cells": [
  {
   "cell_type": "code",
   "execution_count": 1,
   "metadata": {},
   "outputs": [],
   "source": [
    "import pandas as pd\n",
    "import torch as th\n",
    "import numpy as np\n",
    "from Levenshtein import distance"
   ]
  },
  {
   "cell_type": "code",
   "execution_count": 2,
   "metadata": {},
   "outputs": [],
   "source": [
    "act = pd.read_excel('act_data/act.xlsx', encoding='UTF-8')\n",
    "act['alternative_characters'] = act['alternative_characters'].apply(lambda x: x.split(','))\n",
    "act = act['alternative_characters']"
   ]
  },
  {
   "cell_type": "code",
   "execution_count": 21,
   "metadata": {},
   "outputs": [],
   "source": [
    "def text_to_df(path_pred, path_gold):\n",
    "    with open(path_pred, 'r', encoding='UTF-8-sig') as f:\n",
    "        lines_pred = f.readlines()\n",
    "    with open(path_gold, 'r', encoding='UTF-8-sig') as f:\n",
    "        lines_gold = f.readlines()\n",
    "    df = pd.DataFrame(columns=['pred', 'gold'])\n",
    "    df['pred'] = lines_pred\n",
    "    df['gold'] = lines_gold\n",
    "    df['pred'] = df['pred'].apply(lambda w: w.replace('\\n', '').replace(' ', ''))\n",
    "    df['gold'] = df['gold'].apply(lambda w: w.replace('\\n', '').replace(' ', ''))\n",
    "    return df"
   ]
  },
  {
   "cell_type": "code",
   "execution_count": 25,
   "metadata": {},
   "outputs": [],
   "source": [
    "def ACC(df):   \n",
    "    \n",
    "    # calculate MED\n",
    "    dist = df.apply(lambda x: distance(x['pred'], x['gold']), axis=1)\n",
    "    \n",
    "    # zero MED means correct\n",
    "    correct = np.sum(dist == 0)\n",
    "    n = len(df)\n",
    "    acc = correct / n\n",
    "    \n",
    "    # extract those with MED 1 or 2 and look up the ACT\n",
    "    for_act = df[(dist > 0) & (dist <= 2)]\n",
    "    print('The number of pred/gold pairs with MED of 1 or 2 is', len(for_act))\n",
    "    correct_act = np.sum(for_act.apply(lambda x: look_up_ACT(x['pred'], x['gold']), axis=1))\n",
    "    print('The number of replaceable names is', correct_act)\n",
    "    acc_act = (correct + correct_act) / n\n",
    "    \n",
    "    return {\n",
    "        'acc': acc,\n",
    "        'acc-act': acc_act,\n",
    "        'replaced': str(correct_act) + '/' + str(len(for_act)) \n",
    "    }\n"
   ]
  },
  {
   "cell_type": "code",
   "execution_count": 26,
   "metadata": {},
   "outputs": [],
   "source": [
    "def look_up_ACT(pred, gold):\n",
    "    \n",
    "    # Method that examines if pred and gold are equivalent \n",
    "    # after looking up Alternating Character Table.\n",
    "    # Check of the MED is done before this method.\n",
    "    \n",
    "    global act # each cell contains a list of alternating chars\n",
    "    \n",
    "    # The primary assumption requires pred and gold to be of the same length\n",
    "    if not len(pred) == len(gold):\n",
    "        return False\n",
    "    \n",
    "    for i in range(len(pred)):\n",
    "        # everytime find two distinct characters at the same position, check the table\n",
    "        if not pred[i] == gold[i]:\n",
    "            replaceable = any(act.apply(lambda x: (pred[i] in x) and (gold[i] in x)))\n",
    "            if not replaceable:\n",
    "                return False\n",
    "    \n",
    "    # all the distinct characters are 'replaceable' in ACT\n",
    "    return True"
   ]
  },
  {
   "cell_type": "markdown",
   "metadata": {},
   "source": [
    "### For BiDeep"
   ]
  },
  {
   "cell_type": "code",
   "execution_count": 51,
   "metadata": {},
   "outputs": [
    {
     "name": "stdout",
     "output_type": "stream",
     "text": [
      "The number of pred/gold pairs with MED of 1 or 2 is 1631\n",
      "The number of replaceable names is 151\n",
      "{'acc': 0.7101921757035004, 'acc-act': 0.7361015785861359, 'replaced': '151/1631'}\n"
     ]
    }
   ],
   "source": [
    "num = 4\n",
    "exp_path = '../nmt/experiments/exp' + str(num)\n",
    "result = ACC(text_to_df(exp_path + '/test_pred.txt', exp_path + '/test_ref.txt'))\n",
    "print(result)\n",
    "with open(exp_path + '/acc.txt', 'a+') as f:\n",
    "    f.write('ACC-ACT: ' + str(result['acc-act']) + '\\n')\n",
    "    f.write('Replaced: ' + result['replaced'])"
   ]
  },
  {
   "cell_type": "markdown",
   "metadata": {},
   "source": [
    "### For OpenNMT"
   ]
  },
  {
   "cell_type": "code",
   "execution_count": 49,
   "metadata": {},
   "outputs": [
    {
     "name": "stdout",
     "output_type": "stream",
     "text": [
      "The number of pred/gold pairs with MED of 1 or 2 is 1554\n",
      "The number of replaceable names is 134\n",
      "The number of pred/gold pairs with MED of 1 or 2 is 1518\n",
      "The number of replaceable names is 133\n",
      "{'acc': 0.7208304735758407, 'acc-act': 0.7438229238160604, 'replaced': '134/1554'}\n"
     ]
    }
   ],
   "source": [
    "num = 1\n",
    "result = ACC(text_to_df('../nmt/onmt_experiments/exp' + str(num) + '/bs_tst.txt', exp_path + '/test_ref.txt'))\n",
    "result_valid = ACC(text_to_df('../nmt/onmt_experiments/exp' + str(num) + '/bs_dev.txt', exp_path + '/valid_ref.txt'))\n",
    "print(result)\n",
    "with open('../nmt/onmt_experiments/exp' + str(num) + '/result.txt', 'a+') as f:\n",
    "    f.write('[OpenNMT]\\n')\n",
    "    f.write('Valid Acc: ' + str(result_valid['acc']) + '\\n')\n",
    "    f.write('Test ACC: ' + str(result['acc']) + '\\n')\n",
    "    f.write('Test ACC-ACT: ' + str(result['acc-act']) + '\\n')\n",
    "    f.write('Replaced: ' + result['replaced'])"
   ]
  }
 ],
 "metadata": {
  "kernelspec": {
   "display_name": "Python 3",
   "language": "python",
   "name": "python3"
  },
  "language_info": {
   "codemirror_mode": {
    "name": "ipython",
    "version": 3
   },
   "file_extension": ".py",
   "mimetype": "text/x-python",
   "name": "python",
   "nbconvert_exporter": "python",
   "pygments_lexer": "ipython3",
   "version": "3.7.4"
  }
 },
 "nbformat": 4,
 "nbformat_minor": 2
}
