{
 "cells": [
  {
   "cell_type": "code",
   "execution_count": 1,
   "metadata": {},
   "outputs": [],
   "source": [
    "import pandas as pd"
   ]
  },
  {
   "cell_type": "code",
   "execution_count": 31,
   "metadata": {},
   "outputs": [],
   "source": [
    "raw_tac = pd.read_excel('raw_tac.xlsx', encoding='UTF-8')\n",
    "raw_tac = raw_tac.rename({1:'w1', 2:'w2'}, axis=1)"
   ]
  },
  {
   "cell_type": "code",
   "execution_count": 62,
   "metadata": {},
   "outputs": [],
   "source": [
    "inds = raw_tac.index.tolist()\n",
    "\n",
    "def search_alternative(index):\n",
    "    \n",
    "    global raw_tac, inds\n",
    "    head_1 = raw_tac.loc[index]['w1']\n",
    "    head_2 = raw_tac.loc[index]['w2']\n",
    "    act = set()\n",
    "    act.add(head_1)\n",
    "    act.add(head_2)\n",
    "    inds.remove(index)\n",
    "    \n",
    "    for i in inds:\n",
    "        dp = raw_tac.loc[i]\n",
    "        w1 = dp['w1']\n",
    "        w2 = dp['w2']\n",
    "        if w1 == head_1 or w1 == head_2 or w2 == head_1 or w2 == head_2:\n",
    "            act.update(search_alternative(i))  \n",
    "    \n",
    "    return act      "
   ]
  },
  {
   "cell_type": "code",
   "execution_count": 76,
   "metadata": {},
   "outputs": [],
   "source": [
    "inds = raw_tac.index.tolist()\n",
    "n = len(inds)\n",
    "tac = pd.DataFrame(columns=['alternative_characters'])\n",
    "\n",
    "count = 0\n",
    "num = 0\n",
    "for j in range(n):\n",
    "    if not j in inds:\n",
    "        continue\n",
    "    temp = list(search_alternative(j))\n",
    "    tac.loc[count] = ','.join(temp)\n",
    "    num += len(temp)\n",
    "    count += 1"
   ]
  },
  {
   "cell_type": "code",
   "execution_count": 78,
   "metadata": {},
   "outputs": [
    {
     "data": {
      "text/plain": [
       "74"
      ]
     },
     "execution_count": 78,
     "metadata": {},
     "output_type": "execute_result"
    }
   ],
   "source": [
    "num"
   ]
  },
  {
   "cell_type": "code",
   "execution_count": 79,
   "metadata": {},
   "outputs": [],
   "source": [
    "verify_set = set()\n",
    "verify_set.update(raw_tac['w1'])\n",
    "verify_set.update(raw_tac['w2'])"
   ]
  },
  {
   "cell_type": "code",
   "execution_count": 82,
   "metadata": {},
   "outputs": [
    {
     "data": {
      "text/plain": [
       "74"
      ]
     },
     "execution_count": 82,
     "metadata": {},
     "output_type": "execute_result"
    }
   ],
   "source": [
    "len(verify_set) # okkkk"
   ]
  },
  {
   "cell_type": "code",
   "execution_count": 83,
   "metadata": {},
   "outputs": [
    {
     "data": {
      "text/html": [
       "<div>\n",
       "<style scoped>\n",
       "    .dataframe tbody tr th:only-of-type {\n",
       "        vertical-align: middle;\n",
       "    }\n",
       "\n",
       "    .dataframe tbody tr th {\n",
       "        vertical-align: top;\n",
       "    }\n",
       "\n",
       "    .dataframe thead th {\n",
       "        text-align: right;\n",
       "    }\n",
       "</style>\n",
       "<table border=\"1\" class=\"dataframe\">\n",
       "  <thead>\n",
       "    <tr style=\"text-align: right;\">\n",
       "      <th></th>\n",
       "      <th>alternative_characters</th>\n",
       "    </tr>\n",
       "  </thead>\n",
       "  <tbody>\n",
       "    <tr>\n",
       "      <th>0</th>\n",
       "      <td>莉,利,里,丽</td>\n",
       "    </tr>\n",
       "    <tr>\n",
       "      <th>1</th>\n",
       "      <td>弗,夫,芙</td>\n",
       "    </tr>\n",
       "    <tr>\n",
       "      <th>2</th>\n",
       "      <td>思,斯,丝</td>\n",
       "    </tr>\n",
       "    <tr>\n",
       "      <th>3</th>\n",
       "      <td>妮,内,娜,纳,尼</td>\n",
       "    </tr>\n",
       "    <tr>\n",
       "      <th>4</th>\n",
       "      <td>萨,沙,莎</td>\n",
       "    </tr>\n",
       "    <tr>\n",
       "      <th>5</th>\n",
       "      <td>亚,娅</td>\n",
       "    </tr>\n",
       "    <tr>\n",
       "      <th>6</th>\n",
       "      <td>玛,马,穆</td>\n",
       "    </tr>\n",
       "    <tr>\n",
       "      <th>7</th>\n",
       "      <td>琳,林</td>\n",
       "    </tr>\n",
       "    <tr>\n",
       "      <th>8</th>\n",
       "      <td>芭,巴</td>\n",
       "    </tr>\n",
       "    <tr>\n",
       "      <th>9</th>\n",
       "      <td>茜,西,锡</td>\n",
       "    </tr>\n",
       "    <tr>\n",
       "      <th>10</th>\n",
       "      <td>萝,罗</td>\n",
       "    </tr>\n",
       "    <tr>\n",
       "      <th>11</th>\n",
       "      <td>滕,坦</td>\n",
       "    </tr>\n",
       "    <tr>\n",
       "      <th>12</th>\n",
       "      <td>莱,来,勒</td>\n",
       "    </tr>\n",
       "    <tr>\n",
       "      <th>13</th>\n",
       "      <td>代,黛,戴</td>\n",
       "    </tr>\n",
       "    <tr>\n",
       "      <th>14</th>\n",
       "      <td>瓦,沃,娃</td>\n",
       "    </tr>\n",
       "    <tr>\n",
       "      <th>15</th>\n",
       "      <td>吉,姬,基</td>\n",
       "    </tr>\n",
       "    <tr>\n",
       "      <th>16</th>\n",
       "      <td>雷,蕾</td>\n",
       "    </tr>\n",
       "    <tr>\n",
       "      <th>17</th>\n",
       "      <td>薇,维,威</td>\n",
       "    </tr>\n",
       "    <tr>\n",
       "      <th>18</th>\n",
       "      <td>鲁,卢,露</td>\n",
       "    </tr>\n",
       "    <tr>\n",
       "      <th>19</th>\n",
       "      <td>塔,特</td>\n",
       "    </tr>\n",
       "    <tr>\n",
       "      <th>20</th>\n",
       "      <td>尤,于</td>\n",
       "    </tr>\n",
       "    <tr>\n",
       "      <th>21</th>\n",
       "      <td>安,阿</td>\n",
       "    </tr>\n",
       "    <tr>\n",
       "      <th>22</th>\n",
       "      <td>菲,费</td>\n",
       "    </tr>\n",
       "    <tr>\n",
       "      <th>23</th>\n",
       "      <td>纽,努</td>\n",
       "    </tr>\n",
       "    <tr>\n",
       "      <th>24</th>\n",
       "      <td>范,文</td>\n",
       "    </tr>\n",
       "    <tr>\n",
       "      <th>25</th>\n",
       "      <td>蒙,莫</td>\n",
       "    </tr>\n",
       "    <tr>\n",
       "      <th>26</th>\n",
       "      <td>查,恰</td>\n",
       "    </tr>\n",
       "    <tr>\n",
       "      <th>27</th>\n",
       "      <td>保,葆</td>\n",
       "    </tr>\n",
       "    <tr>\n",
       "      <th>28</th>\n",
       "      <td>柯,科</td>\n",
       "    </tr>\n",
       "  </tbody>\n",
       "</table>\n",
       "</div>"
      ],
      "text/plain": [
       "   alternative_characters\n",
       "0                 莉,利,里,丽\n",
       "1                   弗,夫,芙\n",
       "2                   思,斯,丝\n",
       "3               妮,内,娜,纳,尼\n",
       "4                   萨,沙,莎\n",
       "5                     亚,娅\n",
       "6                   玛,马,穆\n",
       "7                     琳,林\n",
       "8                     芭,巴\n",
       "9                   茜,西,锡\n",
       "10                    萝,罗\n",
       "11                    滕,坦\n",
       "12                  莱,来,勒\n",
       "13                  代,黛,戴\n",
       "14                  瓦,沃,娃\n",
       "15                  吉,姬,基\n",
       "16                    雷,蕾\n",
       "17                  薇,维,威\n",
       "18                  鲁,卢,露\n",
       "19                    塔,特\n",
       "20                    尤,于\n",
       "21                    安,阿\n",
       "22                    菲,费\n",
       "23                    纽,努\n",
       "24                    范,文\n",
       "25                    蒙,莫\n",
       "26                    查,恰\n",
       "27                    保,葆\n",
       "28                    柯,科"
      ]
     },
     "execution_count": 83,
     "metadata": {},
     "output_type": "execute_result"
    }
   ],
   "source": [
    "tac"
   ]
  },
  {
   "cell_type": "code",
   "execution_count": 84,
   "metadata": {},
   "outputs": [],
   "source": [
    "tac.to_excel('tac.xlsx', encoding='UTF-8', index=False)"
   ]
  }
 ],
 "metadata": {
  "kernelspec": {
   "display_name": "Python 3",
   "language": "python",
   "name": "python3"
  },
  "language_info": {
   "codemirror_mode": {
    "name": "ipython",
    "version": 3
   },
   "file_extension": ".py",
   "mimetype": "text/x-python",
   "name": "python",
   "nbconvert_exporter": "python",
   "pygments_lexer": "ipython3",
   "version": "3.7.3"
  }
 },
 "nbformat": 4,
 "nbformat_minor": 2
}
