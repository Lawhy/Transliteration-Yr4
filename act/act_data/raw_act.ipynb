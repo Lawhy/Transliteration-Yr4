{
 "cells": [
  {
   "cell_type": "code",
   "execution_count": 21,
   "metadata": {},
   "outputs": [],
   "source": [
    "from Levenshtein import distance\n",
    "import pandas as pd\n",
    "import numpy as np\n",
    "import re"
   ]
  },
  {
   "cell_type": "code",
   "execution_count": 8,
   "metadata": {},
   "outputs": [
    {
     "data": {
      "text/html": [
       "<div>\n",
       "<style scoped>\n",
       "    .dataframe tbody tr th:only-of-type {\n",
       "        vertical-align: middle;\n",
       "    }\n",
       "\n",
       "    .dataframe tbody tr th {\n",
       "        vertical-align: top;\n",
       "    }\n",
       "\n",
       "    .dataframe thead th {\n",
       "        text-align: right;\n",
       "    }\n",
       "</style>\n",
       "<table border=\"1\" class=\"dataframe\">\n",
       "  <thead>\n",
       "    <tr style=\"text-align: right;\">\n",
       "      <th></th>\n",
       "      <th>en</th>\n",
       "      <th>ch1</th>\n",
       "      <th>ch2</th>\n",
       "    </tr>\n",
       "  </thead>\n",
       "  <tbody>\n",
       "    <tr>\n",
       "      <th>0</th>\n",
       "      <td>Abril</td>\n",
       "      <td>阿布里尔</td>\n",
       "      <td>阿布丽尔</td>\n",
       "    </tr>\n",
       "    <tr>\n",
       "      <th>1</th>\n",
       "      <td>Addy</td>\n",
       "      <td>阿迪</td>\n",
       "      <td>阿迪</td>\n",
       "    </tr>\n",
       "    <tr>\n",
       "      <th>2</th>\n",
       "      <td>Afra</td>\n",
       "      <td>阿弗拉</td>\n",
       "      <td>阿芙拉</td>\n",
       "    </tr>\n",
       "    <tr>\n",
       "      <th>3</th>\n",
       "      <td>Agace</td>\n",
       "      <td>阿加斯</td>\n",
       "      <td>阿加丝</td>\n",
       "    </tr>\n",
       "    <tr>\n",
       "      <th>4</th>\n",
       "      <td>Ainsley</td>\n",
       "      <td>安斯利</td>\n",
       "      <td>安斯莉</td>\n",
       "    </tr>\n",
       "  </tbody>\n",
       "</table>\n",
       "</div>"
      ],
      "text/plain": [
       "        en   ch1   ch2\n",
       "0    Abril  阿布里尔  阿布丽尔\n",
       "1     Addy    阿迪    阿迪\n",
       "2     Afra   阿弗拉   阿芙拉\n",
       "3    Agace   阿加斯   阿加丝\n",
       "4  Ainsley   安斯利   安斯莉"
      ]
     },
     "execution_count": 8,
     "metadata": {},
     "output_type": "execute_result"
    }
   ],
   "source": [
    "names = pd.read_excel('2_answers.xlsx', encoding='UTF-8')\n",
    "names.head(5)"
   ]
  },
  {
   "cell_type": "code",
   "execution_count": 12,
   "metadata": {},
   "outputs": [],
   "source": [
    "dists = []\n",
    "inds = []\n",
    "for index, dp in names.iterrows():\n",
    "    ch1 = dp['ch1']\n",
    "    ch2 = dp['ch2']\n",
    "    dists.append(distance(ch1, ch2))\n",
    "    if distance(ch1, ch2) == 0:\n",
    "        inds.append(index)"
   ]
  },
  {
   "cell_type": "code",
   "execution_count": 17,
   "metadata": {},
   "outputs": [],
   "source": [
    "names.loc[inds].drop(columns=['ch2']).to_excel('in_fact_1_not_2.xlsx', encoding='UTF-8-sig', index=False)"
   ]
  },
  {
   "cell_type": "code",
   "execution_count": 18,
   "metadata": {},
   "outputs": [],
   "source": [
    "all_names = pd.read_excel('1_answers.xlsx', encoding='UTF-8')"
   ]
  },
  {
   "cell_type": "code",
   "execution_count": 22,
   "metadata": {},
   "outputs": [
    {
     "data": {
      "text/html": [
       "<div>\n",
       "<style scoped>\n",
       "    .dataframe tbody tr th:only-of-type {\n",
       "        vertical-align: middle;\n",
       "    }\n",
       "\n",
       "    .dataframe tbody tr th {\n",
       "        vertical-align: top;\n",
       "    }\n",
       "\n",
       "    .dataframe thead th {\n",
       "        text-align: right;\n",
       "    }\n",
       "</style>\n",
       "<table border=\"1\" class=\"dataframe\">\n",
       "  <thead>\n",
       "    <tr style=\"text-align: right;\">\n",
       "      <th></th>\n",
       "      <th>en</th>\n",
       "      <th>ch</th>\n",
       "    </tr>\n",
       "  </thead>\n",
       "  <tbody>\n",
       "    <tr>\n",
       "      <th>count</th>\n",
       "      <td>58335</td>\n",
       "      <td>58335</td>\n",
       "    </tr>\n",
       "    <tr>\n",
       "      <th>unique</th>\n",
       "      <td>58320</td>\n",
       "      <td>42924</td>\n",
       "    </tr>\n",
       "    <tr>\n",
       "      <th>top</th>\n",
       "      <td>Derlanger</td>\n",
       "      <td>莫尔</td>\n",
       "    </tr>\n",
       "    <tr>\n",
       "      <th>freq</th>\n",
       "      <td>2</td>\n",
       "      <td>18</td>\n",
       "    </tr>\n",
       "  </tbody>\n",
       "</table>\n",
       "</div>"
      ],
      "text/plain": [
       "               en     ch\n",
       "count       58335  58335\n",
       "unique      58320  42924\n",
       "top     Derlanger     莫尔\n",
       "freq            2     18"
      ]
     },
     "execution_count": 22,
     "metadata": {},
     "output_type": "execute_result"
    }
   ],
   "source": [
    "ch_pa = re.compile(r'^[\\u4E00-\\u9FA5]+$')\n",
    "en_pa = re.compile(r'^[a-zA-Z]+$')\n",
    "all_names.describe()"
   ]
  },
  {
   "cell_type": "code",
   "execution_count": 23,
   "metadata": {},
   "outputs": [],
   "source": [
    "for index, dp in all_names.iterrows():\n",
    "    en = dp['en']\n",
    "    ch = dp['ch']\n",
    "    if not re.findall(en_pa, en) and re.findall(ch_pa, ch):\n",
    "        print(en, ch)"
   ]
  },
  {
   "cell_type": "code",
   "execution_count": 26,
   "metadata": {},
   "outputs": [],
   "source": [
    "names = names.drop(inds).reset_index(drop=True)"
   ]
  },
  {
   "cell_type": "code",
   "execution_count": 28,
   "metadata": {},
   "outputs": [],
   "source": [
    "dists = []\n",
    "inds = []\n",
    "for index, dp in names.iterrows():\n",
    "    ch1 = dp['ch1']\n",
    "    ch2 = dp['ch2']\n",
    "    dists.append(distance(ch1, ch2))\n",
    "    if distance(ch1, ch2) == 0:\n",
    "        inds.append(index)"
   ]
  },
  {
   "cell_type": "code",
   "execution_count": 33,
   "metadata": {},
   "outputs": [
    {
     "data": {
      "text/plain": [
       "1.1826280623608019"
      ]
     },
     "execution_count": 33,
     "metadata": {},
     "output_type": "execute_result"
    }
   ],
   "source": [
    "sum(dists)/len(dists)"
   ]
  },
  {
   "cell_type": "code",
   "execution_count": 34,
   "metadata": {},
   "outputs": [],
   "source": [
    "names.to_excel('2_answers.xlsx', encoding='UTF-8', index=False)"
   ]
  },
  {
   "cell_type": "code",
   "execution_count": 41,
   "metadata": {},
   "outputs": [],
   "source": [
    "def find_diff_one_char(ch1, ch2):\n",
    "    assert len(ch1) == len(ch2)\n",
    "    for i in range(len(ch1)):\n",
    "        if not ch1[i] == ch2[i]:\n",
    "            return [ch1[i], ch2[i]]\n",
    "    return []"
   ]
  },
  {
   "cell_type": "code",
   "execution_count": 42,
   "metadata": {},
   "outputs": [
    {
     "data": {
      "text/plain": [
       "['里', '丽']"
      ]
     },
     "execution_count": 42,
     "metadata": {},
     "output_type": "execute_result"
    }
   ],
   "source": [
    "find_diff_one_char('阿布里尔', '阿布丽尔')"
   ]
  },
  {
   "cell_type": "code",
   "execution_count": 44,
   "metadata": {},
   "outputs": [],
   "source": [
    "alts = pd.DataFrame(columns=[1, 2])\n",
    "exp = []\n",
    "for index, dp in names.iterrows():\n",
    "    ch1 = dp['ch1']\n",
    "    ch2 = dp['ch2']\n",
    "    if distance(ch1, ch2) == 1:\n",
    "        if not len(ch1) == len(ch2):\n",
    "            exp.append(index)\n",
    "        else:    \n",
    "            result = find_diff_one_char(ch1, ch2)\n",
    "            alts.loc[index] = result"
   ]
  },
  {
   "cell_type": "code",
   "execution_count": 52,
   "metadata": {},
   "outputs": [
    {
     "data": {
      "text/html": [
       "<div>\n",
       "<style scoped>\n",
       "    .dataframe tbody tr th:only-of-type {\n",
       "        vertical-align: middle;\n",
       "    }\n",
       "\n",
       "    .dataframe tbody tr th {\n",
       "        vertical-align: top;\n",
       "    }\n",
       "\n",
       "    .dataframe thead th {\n",
       "        text-align: right;\n",
       "    }\n",
       "</style>\n",
       "<table border=\"1\" class=\"dataframe\">\n",
       "  <thead>\n",
       "    <tr style=\"text-align: right;\">\n",
       "      <th></th>\n",
       "      <th>en</th>\n",
       "      <th>ch1</th>\n",
       "      <th>ch2</th>\n",
       "    </tr>\n",
       "  </thead>\n",
       "  <tbody>\n",
       "    <tr>\n",
       "      <th>59</th>\n",
       "      <td>Bedoyere</td>\n",
       "      <td>贝杜瓦耶尔</td>\n",
       "      <td>贝杜瓦耶</td>\n",
       "    </tr>\n",
       "    <tr>\n",
       "      <th>123</th>\n",
       "      <td>Dearie</td>\n",
       "      <td>迪尔里</td>\n",
       "      <td>迪里</td>\n",
       "    </tr>\n",
       "  </tbody>\n",
       "</table>\n",
       "</div>"
      ],
      "text/plain": [
       "           en    ch1   ch2\n",
       "59   Bedoyere  贝杜瓦耶尔  贝杜瓦耶\n",
       "123    Dearie    迪尔里    迪里"
      ]
     },
     "execution_count": 52,
     "metadata": {},
     "output_type": "execute_result"
    }
   ],
   "source": [
    "names.loc[exp]"
   ]
  },
  {
   "cell_type": "markdown",
   "metadata": {},
   "source": [
    "extreme exception"
   ]
  },
  {
   "cell_type": "code",
   "execution_count": 53,
   "metadata": {},
   "outputs": [],
   "source": [
    "names = names.drop(exp)"
   ]
  },
  {
   "cell_type": "code",
   "execution_count": 54,
   "metadata": {},
   "outputs": [],
   "source": [
    "for index, dp in names.iterrows():\n",
    "    ch1 = dp['ch1']\n",
    "    ch2 = dp['ch2']\n",
    "    if distance(ch1, ch2) == 1: \n",
    "        result = find_diff_one_char(ch1, ch2)\n",
    "        alts.loc[index] = result"
   ]
  },
  {
   "cell_type": "code",
   "execution_count": 66,
   "metadata": {},
   "outputs": [
    {
     "data": {
      "text/html": [
       "<div>\n",
       "<style scoped>\n",
       "    .dataframe tbody tr th:only-of-type {\n",
       "        vertical-align: middle;\n",
       "    }\n",
       "\n",
       "    .dataframe tbody tr th {\n",
       "        vertical-align: top;\n",
       "    }\n",
       "\n",
       "    .dataframe thead th {\n",
       "        text-align: right;\n",
       "    }\n",
       "</style>\n",
       "<table border=\"1\" class=\"dataframe\">\n",
       "  <thead>\n",
       "    <tr style=\"text-align: right;\">\n",
       "      <th></th>\n",
       "      <th>1</th>\n",
       "      <th>2</th>\n",
       "    </tr>\n",
       "  </thead>\n",
       "  <tbody>\n",
       "    <tr>\n",
       "      <th>count</th>\n",
       "      <td>371</td>\n",
       "      <td>371</td>\n",
       "    </tr>\n",
       "    <tr>\n",
       "      <th>unique</th>\n",
       "      <td>42</td>\n",
       "      <td>35</td>\n",
       "    </tr>\n",
       "    <tr>\n",
       "      <th>top</th>\n",
       "      <td>利</td>\n",
       "      <td>莉</td>\n",
       "    </tr>\n",
       "    <tr>\n",
       "      <th>freq</th>\n",
       "      <td>52</td>\n",
       "      <td>50</td>\n",
       "    </tr>\n",
       "  </tbody>\n",
       "</table>\n",
       "</div>"
      ],
      "text/plain": [
       "          1    2\n",
       "count   371  371\n",
       "unique   42   35\n",
       "top       利    莉\n",
       "freq     52   50"
      ]
     },
     "execution_count": 66,
     "metadata": {},
     "output_type": "execute_result"
    }
   ],
   "source": [
    "alts.describe()"
   ]
  },
  {
   "cell_type": "code",
   "execution_count": 69,
   "metadata": {},
   "outputs": [],
   "source": [
    "alts = alts[alts.duplicated() == False].reset_index(drop=True)"
   ]
  },
  {
   "cell_type": "code",
   "execution_count": 72,
   "metadata": {},
   "outputs": [
    {
     "data": {
      "text/html": [
       "<div>\n",
       "<style scoped>\n",
       "    .dataframe tbody tr th:only-of-type {\n",
       "        vertical-align: middle;\n",
       "    }\n",
       "\n",
       "    .dataframe tbody tr th {\n",
       "        vertical-align: top;\n",
       "    }\n",
       "\n",
       "    .dataframe thead th {\n",
       "        text-align: right;\n",
       "    }\n",
       "</style>\n",
       "<table border=\"1\" class=\"dataframe\">\n",
       "  <thead>\n",
       "    <tr style=\"text-align: right;\">\n",
       "      <th></th>\n",
       "      <th>1</th>\n",
       "      <th>2</th>\n",
       "    </tr>\n",
       "  </thead>\n",
       "  <tbody>\n",
       "    <tr>\n",
       "      <th>0</th>\n",
       "      <td>里</td>\n",
       "      <td>丽</td>\n",
       "    </tr>\n",
       "    <tr>\n",
       "      <th>1</th>\n",
       "      <td>弗</td>\n",
       "      <td>芙</td>\n",
       "    </tr>\n",
       "    <tr>\n",
       "      <th>2</th>\n",
       "      <td>斯</td>\n",
       "      <td>丝</td>\n",
       "    </tr>\n",
       "    <tr>\n",
       "      <th>3</th>\n",
       "      <td>利</td>\n",
       "      <td>莉</td>\n",
       "    </tr>\n",
       "    <tr>\n",
       "      <th>4</th>\n",
       "      <td>纳</td>\n",
       "      <td>娜</td>\n",
       "    </tr>\n",
       "    <tr>\n",
       "      <th>5</th>\n",
       "      <td>萨</td>\n",
       "      <td>莎</td>\n",
       "    </tr>\n",
       "    <tr>\n",
       "      <th>6</th>\n",
       "      <td>利</td>\n",
       "      <td>丽</td>\n",
       "    </tr>\n",
       "    <tr>\n",
       "      <th>7</th>\n",
       "      <td>亚</td>\n",
       "      <td>娅</td>\n",
       "    </tr>\n",
       "    <tr>\n",
       "      <th>8</th>\n",
       "      <td>玛</td>\n",
       "      <td>马</td>\n",
       "    </tr>\n",
       "    <tr>\n",
       "      <th>9</th>\n",
       "      <td>林</td>\n",
       "      <td>琳</td>\n",
       "    </tr>\n",
       "    <tr>\n",
       "      <th>10</th>\n",
       "      <td>莉</td>\n",
       "      <td>利</td>\n",
       "    </tr>\n",
       "    <tr>\n",
       "      <th>11</th>\n",
       "      <td>尼</td>\n",
       "      <td>妮</td>\n",
       "    </tr>\n",
       "    <tr>\n",
       "      <th>12</th>\n",
       "      <td>丽</td>\n",
       "      <td>里</td>\n",
       "    </tr>\n",
       "    <tr>\n",
       "      <th>13</th>\n",
       "      <td>娜</td>\n",
       "      <td>纳</td>\n",
       "    </tr>\n",
       "    <tr>\n",
       "      <th>14</th>\n",
       "      <td>丝</td>\n",
       "      <td>斯</td>\n",
       "    </tr>\n",
       "    <tr>\n",
       "      <th>15</th>\n",
       "      <td>巴</td>\n",
       "      <td>芭</td>\n",
       "    </tr>\n",
       "    <tr>\n",
       "      <th>16</th>\n",
       "      <td>西</td>\n",
       "      <td>茜</td>\n",
       "    </tr>\n",
       "    <tr>\n",
       "      <th>17</th>\n",
       "      <td>罗</td>\n",
       "      <td>萝</td>\n",
       "    </tr>\n",
       "    <tr>\n",
       "      <th>18</th>\n",
       "      <td>坦</td>\n",
       "      <td>滕</td>\n",
       "    </tr>\n",
       "    <tr>\n",
       "      <th>19</th>\n",
       "      <td>来</td>\n",
       "      <td>莱</td>\n",
       "    </tr>\n",
       "    <tr>\n",
       "      <th>20</th>\n",
       "      <td>戴</td>\n",
       "      <td>黛</td>\n",
       "    </tr>\n",
       "    <tr>\n",
       "      <th>21</th>\n",
       "      <td>马</td>\n",
       "      <td>玛</td>\n",
       "    </tr>\n",
       "    <tr>\n",
       "      <th>22</th>\n",
       "      <td>娅</td>\n",
       "      <td>亚</td>\n",
       "    </tr>\n",
       "    <tr>\n",
       "      <th>23</th>\n",
       "      <td>内</td>\n",
       "      <td>尼</td>\n",
       "    </tr>\n",
       "    <tr>\n",
       "      <th>24</th>\n",
       "      <td>娃</td>\n",
       "      <td>瓦</td>\n",
       "    </tr>\n",
       "    <tr>\n",
       "      <th>25</th>\n",
       "      <td>莎</td>\n",
       "      <td>萨</td>\n",
       "    </tr>\n",
       "    <tr>\n",
       "      <th>26</th>\n",
       "      <td>夫</td>\n",
       "      <td>芙</td>\n",
       "    </tr>\n",
       "    <tr>\n",
       "      <th>27</th>\n",
       "      <td>思</td>\n",
       "      <td>丝</td>\n",
       "    </tr>\n",
       "    <tr>\n",
       "      <th>28</th>\n",
       "      <td>基</td>\n",
       "      <td>姬</td>\n",
       "    </tr>\n",
       "    <tr>\n",
       "      <th>29</th>\n",
       "      <td>雷</td>\n",
       "      <td>蕾</td>\n",
       "    </tr>\n",
       "    <tr>\n",
       "      <th>30</th>\n",
       "      <td>吉</td>\n",
       "      <td>姬</td>\n",
       "    </tr>\n",
       "    <tr>\n",
       "      <th>31</th>\n",
       "      <td>维</td>\n",
       "      <td>薇</td>\n",
       "    </tr>\n",
       "    <tr>\n",
       "      <th>32</th>\n",
       "      <td>妮</td>\n",
       "      <td>尼</td>\n",
       "    </tr>\n",
       "    <tr>\n",
       "      <th>33</th>\n",
       "      <td>琳</td>\n",
       "      <td>林</td>\n",
       "    </tr>\n",
       "    <tr>\n",
       "      <th>34</th>\n",
       "      <td>露</td>\n",
       "      <td>卢</td>\n",
       "    </tr>\n",
       "    <tr>\n",
       "      <th>35</th>\n",
       "      <td>黛</td>\n",
       "      <td>代</td>\n",
       "    </tr>\n",
       "    <tr>\n",
       "      <th>36</th>\n",
       "      <td>内</td>\n",
       "      <td>娜</td>\n",
       "    </tr>\n",
       "    <tr>\n",
       "      <th>37</th>\n",
       "      <td>塔</td>\n",
       "      <td>特</td>\n",
       "    </tr>\n",
       "    <tr>\n",
       "      <th>38</th>\n",
       "      <td>穆</td>\n",
       "      <td>马</td>\n",
       "    </tr>\n",
       "    <tr>\n",
       "      <th>39</th>\n",
       "      <td>芭</td>\n",
       "      <td>巴</td>\n",
       "    </tr>\n",
       "    <tr>\n",
       "      <th>40</th>\n",
       "      <td>沙</td>\n",
       "      <td>莎</td>\n",
       "    </tr>\n",
       "    <tr>\n",
       "      <th>41</th>\n",
       "      <td>蕾</td>\n",
       "      <td>雷</td>\n",
       "    </tr>\n",
       "    <tr>\n",
       "      <th>42</th>\n",
       "      <td>尤</td>\n",
       "      <td>于</td>\n",
       "    </tr>\n",
       "    <tr>\n",
       "      <th>43</th>\n",
       "      <td>威</td>\n",
       "      <td>薇</td>\n",
       "    </tr>\n",
       "  </tbody>\n",
       "</table>\n",
       "</div>"
      ],
      "text/plain": [
       "    1  2\n",
       "0   里  丽\n",
       "1   弗  芙\n",
       "2   斯  丝\n",
       "3   利  莉\n",
       "4   纳  娜\n",
       "5   萨  莎\n",
       "6   利  丽\n",
       "7   亚  娅\n",
       "8   玛  马\n",
       "9   林  琳\n",
       "10  莉  利\n",
       "11  尼  妮\n",
       "12  丽  里\n",
       "13  娜  纳\n",
       "14  丝  斯\n",
       "15  巴  芭\n",
       "16  西  茜\n",
       "17  罗  萝\n",
       "18  坦  滕\n",
       "19  来  莱\n",
       "20  戴  黛\n",
       "21  马  玛\n",
       "22  娅  亚\n",
       "23  内  尼\n",
       "24  娃  瓦\n",
       "25  莎  萨\n",
       "26  夫  芙\n",
       "27  思  丝\n",
       "28  基  姬\n",
       "29  雷  蕾\n",
       "30  吉  姬\n",
       "31  维  薇\n",
       "32  妮  尼\n",
       "33  琳  林\n",
       "34  露  卢\n",
       "35  黛  代\n",
       "36  内  娜\n",
       "37  塔  特\n",
       "38  穆  马\n",
       "39  芭  巴\n",
       "40  沙  莎\n",
       "41  蕾  雷\n",
       "42  尤  于\n",
       "43  威  薇"
      ]
     },
     "execution_count": 72,
     "metadata": {},
     "output_type": "execute_result"
    }
   ],
   "source": [
    "alts"
   ]
  },
  {
   "cell_type": "code",
   "execution_count": 75,
   "metadata": {},
   "outputs": [],
   "source": [
    "def find_diff_chars(ch1, ch2):\n",
    "    assert len(ch1) == len(ch2)\n",
    "    result = []\n",
    "    for i in range(len(ch1)):\n",
    "        if not ch1[i] == ch2[i]:\n",
    "            result.append((ch1[i], ch2[i]))\n",
    "    return result"
   ]
  },
  {
   "cell_type": "code",
   "execution_count": 77,
   "metadata": {},
   "outputs": [
    {
     "name": "stdout",
     "output_type": "stream",
     "text": [
      "弗赖伊 弗里\n"
     ]
    }
   ],
   "source": [
    "alts2 = pd.DataFrame()\n",
    "results = []\n",
    "for index, dp in names.iterrows():\n",
    "    ch1 = dp['ch1']\n",
    "    ch2 = dp['ch2']\n",
    "    if distance(ch1, ch2) == 2: \n",
    "        if not len(ch1) == len(ch2):\n",
    "            print(ch1, ch2)\n",
    "        else:\n",
    "            results.append(find_diff_chars(ch1, ch2))"
   ]
  },
  {
   "cell_type": "code",
   "execution_count": 79,
   "metadata": {},
   "outputs": [
    {
     "data": {
      "text/plain": [
       "True"
      ]
     },
     "execution_count": 79,
     "metadata": {},
     "output_type": "execute_result"
    }
   ],
   "source": [
    "all(len(w) == 2 for w in results)"
   ]
  },
  {
   "cell_type": "code",
   "execution_count": 89,
   "metadata": {},
   "outputs": [],
   "source": [
    "alts2 = pd.DataFrame(columns = [1, 2])\n",
    "count = 0\n",
    "for r in results:\n",
    "    alts2.loc[count] = [r[0][0], r[0][1]]\n",
    "    alts2.loc[count+1] = [r[1][0], r[1][1]]\n",
    "    count += 2\n",
    "    "
   ]
  },
  {
   "cell_type": "code",
   "execution_count": 92,
   "metadata": {},
   "outputs": [],
   "source": [
    "alts2 = alts2[alts2.duplicated() == False].reset_index(drop=True)"
   ]
  },
  {
   "cell_type": "code",
   "execution_count": 97,
   "metadata": {},
   "outputs": [],
   "source": [
    "alts = alts.append(alts2, ignore_index=False)"
   ]
  },
  {
   "cell_type": "code",
   "execution_count": 98,
   "metadata": {},
   "outputs": [],
   "source": [
    "alts = alts[alts.duplicated() == False].reset_index(drop=True)"
   ]
  },
  {
   "cell_type": "code",
   "execution_count": 101,
   "metadata": {},
   "outputs": [],
   "source": [
    "alts.to_excel('raw_tac.xlsx', encoding='UTF-8-sig', index=False)"
   ]
  }
 ],
 "metadata": {
  "kernelspec": {
   "display_name": "Python 3",
   "language": "python",
   "name": "python3"
  },
  "language_info": {
   "codemirror_mode": {
    "name": "ipython",
    "version": 3
   },
   "file_extension": ".py",
   "mimetype": "text/x-python",
   "name": "python",
   "nbconvert_exporter": "python",
   "pygments_lexer": "ipython3",
   "version": "3.7.3"
  }
 },
 "nbformat": 4,
 "nbformat_minor": 2
}
