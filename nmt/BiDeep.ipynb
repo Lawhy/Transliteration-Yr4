{
 "cells": [
  {
   "cell_type": "markdown",
   "metadata": {
    "colab_type": "text",
    "id": "BMJdnHNI1mS8"
   },
   "source": [
    "# The NMT model based on PyTorch Seq2Seq Tutorial\n",
    "\n",
    "## Introduction\n",
    "\n",
    "In this notebook we will be adding a few improvements - packed padded sequences and masking - to the model from the previous notebook. Packed padded sequences are used to tell our RNN to skip over padding tokens in our encoder. Masking explicitly forces the model to ignore certain values, such as attention over padded elements. Both of these techniques are commonly used in NLP. \n",
    "\n",
    "We will also look at how to use our model for inference, by giving it a sentence, seeing what it translates it as and seeing where exactly it pays attention to when translating each word.\n",
    "\n",
    "Finally, we'll use the BLEU metric to measure the quality of our translations.\n",
    "\n",
    "## Preparing Data\n",
    "\n",
    "First, we'll import all the modules as before, with the addition of the `matplotlib` modules used for viewing the attention."
   ]
  },
  {
   "cell_type": "code",
   "execution_count": null,
   "metadata": {
    "colab": {},
    "colab_type": "code",
    "id": "ekVLki2n1mTB"
   },
   "outputs": [],
   "source": [
    "import torch\n",
    "import torch.nn as nn\n",
    "import torch.optim as optim\n",
    "import torch.nn.functional as F\n",
    "\n",
    "from torchtext.datasets import TranslationDataset, Multi30k\n",
    "from torchtext.data import Field, BucketIterator, TabularDataset \n",
    "\n",
    "import matplotlib.pyplot as plt\n",
    "import matplotlib.ticker as ticker\n",
    "\n",
    "import numpy as np\n",
    "\n",
    "import random\n",
    "import math\n",
    "import time\n",
    "import pandas as pd"
   ]
  },
  {
   "cell_type": "markdown",
   "metadata": {
    "colab_type": "text",
    "id": "IkiQTOVo1mTH"
   },
   "source": [
    "Next, we'll set the random seed for reproducability."
   ]
  },
  {
   "cell_type": "code",
   "execution_count": null,
   "metadata": {
    "colab": {},
    "colab_type": "code",
    "id": "tseFXXFG1mTI"
   },
   "outputs": [],
   "source": [
    "SEED = 1234\n",
    "\n",
    "random.seed(SEED)\n",
    "np.random.seed(SEED)\n",
    "torch.manual_seed(SEED)\n",
    "torch.cuda.manual_seed(SEED)\n",
    "torch.backends.cudnn.deterministic = True"
   ]
  },
  {
   "cell_type": "markdown",
   "metadata": {
    "colab_type": "text",
    "id": "3BptkljN1mTX"
   },
   "source": [
    "When using packed padded sequences, we need to tell PyTorch how long the actual (non-padded) sequences are. Luckily for us, TorchText's `Field` objects allow us to use the `include_lengths` argument, this will cause our `batch.src` to be a tuple. The first element of the tuple is the same as before, a batch of numericalized source sentence as a tensor, and the second element is the non-padded lengths of each source sentence within the batch."
   ]
  },
  {
   "cell_type": "markdown",
   "metadata": {},
   "source": [
    "#### Load the data"
   ]
  },
  {
   "cell_type": "code",
   "execution_count": null,
   "metadata": {},
   "outputs": [],
   "source": [
    "data_path = 'dict_data'  # news_data or dict_data\n",
    "\n",
    "def tokenize(word): # create a tokenizer function\n",
    "    word = word.replace('\\n', '')\n",
    "    return word.split(' ')\n",
    "\n",
    "# <sos>: start of a sequence; <eos>: end of a sequence.\n",
    "SRC = Field(tokenize=tokenize, \n",
    "            init_token='<sos>', \n",
    "            eos_token='<eos>', \n",
    "            lower=True,\n",
    "            include_lengths = True)\n",
    "\n",
    "TRG = Field(tokenize=tokenize, \n",
    "            init_token='<sos>', \n",
    "            eos_token='<eos>', \n",
    "            lower=False,\n",
    "            include_lengths = True)\n",
    "\n",
    "PINYIN_STR = Field(tokenize=tokenize, \n",
    "                   init_token='<sos>', \n",
    "                   eos_token='<eos>', \n",
    "                   lower=True,\n",
    "                   include_lengths = True)\n",
    "\n",
    "PINYIN_CHAR = Field(tokenize=tokenize, \n",
    "                    init_token='<sos>', \n",
    "                    eos_token='<eos>', \n",
    "                    lower=True,\n",
    "                    include_lengths = True)\n",
    "\n",
    "train_data = TabularDataset(\n",
    "           path = data_path + \"/train.tsv\", \n",
    "           format='tsv',\n",
    "           skip_header=True, \n",
    "           fields=([(\"src\", SRC), (\"trg\", TRG), (\"pinyin_str\", PINYIN_STR), (\"pinyin_char\", PINYIN_CHAR)]))\n",
    "\n",
    "valid_data = TabularDataset(\n",
    "           path = data_path + \"/valid.tsv\", \n",
    "           format='tsv',\n",
    "           skip_header=True, \n",
    "           fields=([(\"src\", SRC), (\"trg\", TRG), (\"pinyin_str\", PINYIN_STR), (\"pinyin_char\", PINYIN_CHAR)]))\n",
    "\n",
    "test_data = TabularDataset(\n",
    "           path = data_path + \"/test.tsv\",   #/dev.tsv for news_data\n",
    "           format='tsv',\n",
    "           skip_header=True, \n",
    "           fields=([(\"src\", SRC), (\"trg\", TRG), (\"pinyin_str\", PINYIN_STR), (\"pinyin_char\", PINYIN_CHAR)]))"
   ]
  },
  {
   "cell_type": "code",
   "execution_count": null,
   "metadata": {},
   "outputs": [],
   "source": [
    "SRC.build_vocab(train_data, min_freq=1)\n",
    "TRG.build_vocab(train_data, min_freq=1)  # first hyperparameter, the min_freq for vocab\n",
    "PINYIN_STR.build_vocab(train_data, min_freq=1)\n",
    "PINYIN_CHAR.build_vocab(train_data, min_freq=1)"
   ]
  },
  {
   "cell_type": "markdown",
   "metadata": {
    "colab_type": "text",
    "id": "9T4BeGQl1mTm"
   },
   "source": [
    "Next, we handle the iterators.\n",
    "\n",
    "One quirk about packed padded sequences is that all elements in the batch need to be sorted by their non-padded lengths in descending order, i.e. the first sentence in the batch needs to be the longest. We use two arguments of the iterator to handle this, `sort_within_batch` which tells the iterator that the contents of the batch need to be sorted, and `sort_key` a function which tells the iterator how to sort the elements in the batch. Here, we sort by the length of the `src` sentence."
   ]
  },
  {
   "cell_type": "code",
   "execution_count": null,
   "metadata": {
    "colab": {},
    "colab_type": "code",
    "id": "eC2z6ajs1mTo"
   },
   "outputs": [],
   "source": [
    "BATCH_SIZE = 64\n",
    "\n",
    "device = torch.device('cuda' if torch.cuda.is_available() else 'cpu')\n",
    "\n",
    "train_iterator, valid_iterator, test_iterator = BucketIterator.splits(\n",
    "    (train_data, valid_data, test_data), \n",
    "     batch_size = BATCH_SIZE,\n",
    "     sort_within_batch = True,\n",
    "     sort_key = lambda x : len(x.src),\n",
    "     device = device)"
   ]
  },
  {
   "cell_type": "code",
   "execution_count": null,
   "metadata": {},
   "outputs": [],
   "source": [
    "# evaluate the test data considering multiple answers (for news data)\n",
    "import json\n",
    "with open('news_data/dev.json', 'r') as f:\n",
    "    dev_json = json.load(f)"
   ]
  },
  {
   "cell_type": "markdown",
   "metadata": {
    "colab_type": "text",
    "id": "vfkesmam1mTs"
   },
   "source": [
    "## Building the Model\n",
    "\n",
    "### Encoder\n",
    "\n",
    "Next up, we define the encoder.\n",
    "\n",
    "The changes here all within the `forward` method. It now accepts the lengths of the source sentences as well as the sentences themselves. \n",
    "\n",
    "After the source sentence (padded automatically within the iterator) has been embedded, we can then use `pack_padded_sequence` on it with the lengths of the sentences. `packed_embedded` will then be our packed padded sequence. This can be then fed to our RNN as normal which will return `packed_outputs`, a packed tensor containing all of the hidden states from the sequence, and `hidden` which is simply the final hidden state from our sequence. `hidden` is a standard tensor and not packed in any way, the only difference is that as the input was a packed sequence, this tensor is from the final **non-padded element** in the sequence.\n",
    "\n",
    "We then unpack our `packed_outputs` using `pad_packed_sequence` which returns the `outputs` and the lengths of each, which we don't need. \n",
    "\n",
    "The first dimension of `outputs` is the padded sequence lengths however due to using a packed padded sequence the values of tensors when a padding token was the input will be all zeros."
   ]
  },
  {
   "cell_type": "code",
   "execution_count": null,
   "metadata": {},
   "outputs": [],
   "source": [
    "class LayerNormalisedGRUCell(nn.Module):\n",
    "    \n",
    "    def __init__(self, emb_dim, hid_dim, dropout, num_layers):\n",
    "        super().__init__()\n",
    "        # input of shape (batch, input_size): tensor containing input features\n",
    "        # hidden of shape (batch, hidden_size): tensor containing the initial hidden state for each element in the batch. Defaults to zero if not provided.\n",
    "        \n",
    "        self.GRUCell = nn.GRUCell(emb_dim, hid_dim, bidirectional=True, num_layers=num_layers, dropout=0.2)\n",
    "        self.layerNorm = nn.LayerNorm(hid_dim)  # normalised along the hidden dimensions\n",
    "        \n",
    "    def forward(self, cur_embed, pre_hidden):\n",
    "        cur_hidden = self.GRUCell(cur_embed, pre_hidden)\n",
    "        return self.layerNorm(cur_hidden)"
   ]
  },
  {
   "cell_type": "code",
   "execution_count": null,
   "metadata": {
    "colab": {},
    "colab_type": "code",
    "id": "59ex5O5m1mTt"
   },
   "outputs": [],
   "source": [
    "class Encoder(nn.Module):\n",
    "    def __init__(self, input_dim, emb_dim, enc_hid_dim, dropout, num_layers, \n",
    "                 layer_normalised=False, rnn_type='GRU'):\n",
    "        super().__init__()\n",
    "        \n",
    "        # input_dim is the vocab_size, i.e. the emb_dim of one-hot encoding\n",
    "        self.embedding = nn.Embedding(input_dim, emb_dim) \n",
    "        # self.layerNorm = nn.LayerNorm(enc_hid_dim * 2)\n",
    "        \n",
    "        self.rnn_type = rnn_type\n",
    "        if rnn_type == 'GRU':\n",
    "            self.rnn = nn.GRU(emb_dim, enc_hid_dim, bidirectional = True, num_layers=num_layers, dropout=0.2)\n",
    "        elif rnn_type == 'LSTM':\n",
    "            self.rnn = nn.LSTM(emb_dim, enc_hid_dim, bidirectional = True, num_layers=num_layers, dropout=0.2)\n",
    "        \n",
    "        self.enc_hid_dim = enc_hid_dim\n",
    "        self.dropout = nn.Dropout(dropout)\n",
    "        \n",
    "        \n",
    "    def forward(self, src, src_len):\n",
    "        \n",
    "        # src = [src len, batch size]\n",
    "        # src_len = [src len]\n",
    "        \n",
    "        embedded = self.dropout(self.embedding(src))\n",
    "        \n",
    "        # embedded = [src len, batch size, emb dim]\n",
    "                \n",
    "        packed_embedded = nn.utils.rnn.pack_padded_sequence(embedded, src_len)\n",
    "        \n",
    "        packed_outputs, hidden = self.rnn(packed_embedded)\n",
    "        if self.rnn_type == 'LSTM':\n",
    "            hidden = hidden[0]  # (h_n, c_n)\n",
    "                                 \n",
    "        # packed_outputs is a packed sequence containing all hidden states\n",
    "        # hidden is now from the final non-padded element in the batch\n",
    "            \n",
    "        outputs, _ = nn.utils.rnn.pad_packed_sequence(packed_outputs) \n",
    "            \n",
    "        # outputs is now a non-packed sequence, all hidden states obtained\n",
    "        #  when the input is a pad token are all zeros\n",
    "            \n",
    "        # outputs = [src len, batch size, hid dim * num directions]\n",
    "        # hidden = [n layers * num directions, batch size, hid dim]\n",
    "        \n",
    "        # hidden is stacked [forward_1, backward_1, forward_2, backward_2, ...]\n",
    "        # outputs are always from the last layer\n",
    "        \n",
    "        # hidden [-2, :, : ] is the last of the forwards RNN \n",
    "        # hidden [-1, :, : ] is the last of the backwards RNN\n",
    "        \n",
    "        # initial decoder hidden is final hidden state of the forwards and backwards \n",
    "        #  encoder RNNs fed through a linear layer\n",
    "        hidden = torch.cat((hidden[-2,:,:], hidden[-1,:,:]), dim = 1)\n",
    "        # hidden = self.layerNorm(hidden)\n",
    "        \n",
    "        #outputs = [src len, batch size, enc hid dim * 2]\n",
    "        #hidden = [batch size, dec hid dim]\n",
    "        \n",
    "        return outputs, hidden"
   ]
  },
  {
   "cell_type": "markdown",
   "metadata": {
    "colab_type": "text",
    "id": "C-j6ytlj1mTx"
   },
   "source": [
    "### Attention\n",
    "\n",
    "The attention module is where we calculate the attention values over the source sentence. \n",
    "\n",
    "Previously, we allowed this module to \"pay attention\" to padding tokens within the source sentence. However, using *masking*, we can force the attention to only be over non-padding elements.\n",
    "\n",
    "The `forward` method now takes a `mask` input. This is a **[batch size, source sentence length]** tensor that is 1 when the source sentence token is not a padding token, and 0 when it is a padding token. For example, if the source sentence is: [\"hello\", \"how\", \"are\", \"you\", \"?\", `<pad>`, `<pad>`], then the mask would be [1, 1, 1, 1, 1, 0, 0].\n",
    "\n",
    "We apply the mask after the attention has been calculated, but before it has been normalized by the `softmax` function. It is applied using `masked_fill`. This fills the tensor at each element where the first argument (`mask == 0`) is true, with the value given by the second argument (`-1e10`). In other words, it will take the un-normalized attention values, and change the attention values over padded elements to be `-1e10`. As these numbers will be miniscule compared to the other values they will become zero when passed through the `softmax` layer, ensuring no attention is payed to padding tokens in the source sentence."
   ]
  },
  {
   "cell_type": "code",
   "execution_count": null,
   "metadata": {
    "colab": {},
    "colab_type": "code",
    "id": "4Cp2hCPZ1mTz"
   },
   "outputs": [],
   "source": [
    "class Attention(nn.Module):\n",
    "    def __init__(self, enc_hid_dim, dec_hid_dim):\n",
    "        super().__init__()\n",
    "        \n",
    "        self.attn = nn.Linear((enc_hid_dim * 2) + dec_hid_dim, dec_hid_dim)\n",
    "        self.v = nn.Linear(dec_hid_dim, 1, bias = False)\n",
    "        \n",
    "    def forward(self, hidden, encoder_outputs, mask):\n",
    "        \n",
    "        #hidden = [batch size, dec hid dim]\n",
    "        #encoder_outputs = [src len, batch size, enc hid dim * 2]\n",
    "        \n",
    "        batch_size = encoder_outputs.shape[1]\n",
    "        src_len = encoder_outputs.shape[0]\n",
    "        \n",
    "        #repeat decoder hidden state src_len times\n",
    "        hidden = hidden.unsqueeze(1).repeat(1, src_len, 1)\n",
    "  \n",
    "        encoder_outputs = encoder_outputs.permute(1, 0, 2)\n",
    "        \n",
    "        #hidden = [batch size, src len, dec hid dim]\n",
    "        #encoder_outputs = [batch size, src len, enc hid dim * 2]\n",
    "        \n",
    "        energy = torch.tanh(self.attn(torch.cat((hidden, encoder_outputs), dim = 2))) \n",
    "        \n",
    "        #energy = [batch size, src len, dec hid dim]\n",
    "\n",
    "        attention = self.v(energy).squeeze(2)\n",
    "        \n",
    "        #attention = [batch size, src len]\n",
    "        \n",
    "        attention = attention.masked_fill(mask == 0, -1e10)\n",
    "        \n",
    "        return F.softmax(attention, dim = 1)"
   ]
  },
  {
   "cell_type": "markdown",
   "metadata": {
    "colab_type": "text",
    "id": "A2u-PmiG1mT2"
   },
   "source": [
    "### Decoder\n",
    "\n",
    "The decoder only needs a few small changes. It needs to accept a mask over the source sentence and pass this to the attention module. As we want to view the values of attention during inference, we also return the attention tensor."
   ]
  },
  {
   "cell_type": "code",
   "execution_count": null,
   "metadata": {
    "colab": {},
    "colab_type": "code",
    "id": "H5Mne8Lc1mT3"
   },
   "outputs": [],
   "source": [
    "class Decoder(nn.Module):\n",
    "    def __init__(self, output_dim, emb_dim, enc_hid_dim, dec_hid_dim, dropout, attention, num_layers, apply_transition=True, rnn_type='GRU'):\n",
    "        super().__init__()\n",
    "\n",
    "        self.output_dim = output_dim\n",
    "        self.dec_hid_dim = dec_hid_dim\n",
    "        self.num_layers = num_layers\n",
    "        self.attention = attention\n",
    "        self.layerNorm = nn.LayerNorm(dec_hid_dim)\n",
    "        self.apply_transition = apply_transition\n",
    "        \n",
    "        self.embedding = nn.Embedding(output_dim, emb_dim)\n",
    "        \n",
    "        if rnn_type == 'GRU':\n",
    "            if apply_transition:\n",
    "                self.trans_rnn1 = nn.GRU(emb_dim, dec_hid_dim)  # input: pre; h_0: prev_rnn_hidden\n",
    "                self.trans_rnn2 = nn.GRU(enc_hid_dim * 2, dec_hid_dim)  # input: attention; h_0: trans_rnn1_hidden\n",
    "                self.rnn = nn.GRU(emb_dim + dec_hid_dim, dec_hid_dim, num_layers=num_layers, dropout=0.2)  # [prev_embed + trans_rnn2_hidden]\n",
    "            else:\n",
    "                self.rnn = nn.GRU(emb_dim + 2 * enc_hid_dim, dec_hid_dim, num_layers=num_layers, dropout=0.2)\n",
    "        elif rnn_type == 'LSTM':\n",
    "            if apply_transition:\n",
    "                self.trans_rnn1 = nn.LSTM(emb_dim, dec_hid_dim)  # input: prev_embed; h_0: prev_rnn_hidden\n",
    "                self.trans_rnn2 = nn.LSTM(enc_hid_dim * 2, dec_hid_dim)  # input: attention; h_0: trans_rnn1_hidden\n",
    "                self.rnn = nn.LSTM(emb_dim + dec_hid_dim, dec_hid_dim, num_layers=num_layers, dropout=0.2)  # [prev_embed + trans_rnn2_hidden]\n",
    "            else:\n",
    "                self.rnn = nn.LSTM(emb_dim + 2 * enc_hid_dim, dec_hid_dim, num_layers=num_layers, dropout=0.2)\n",
    "            \n",
    "        \n",
    "        self.fc_out = nn.Linear((enc_hid_dim * 2) + dec_hid_dim + emb_dim, output_dim)\n",
    "        \n",
    "        self.dropout = nn.Dropout(dropout)\n",
    "        \n",
    "        \n",
    "    def forward(self, input, hidden, encoder_outputs, mask):\n",
    "             \n",
    "        # input = [batch size]\n",
    "        # hidden = [batch size, dec hid dim]\n",
    "        # encoder_outputs = [src len, batch size, enc hid dim * 2]\n",
    "        # mask = [batch size, src len]\n",
    "        \n",
    "        input = input.unsqueeze(0)  # input = [1, batch size]\n",
    "        embedded = self.dropout(self.embedding(input))  #  embedded = [1, batch size, emb dim]\n",
    "        \n",
    "        # transition rnn 1\n",
    "        if self.apply_transition:\n",
    "            output_1, hidden_1 = self.trans_rnn1(embedded, hidden.unsqueeze(0))  # input, h_0\n",
    "            assert (output_1 == hidden_1).all()\n",
    "            # hidden_1 = [1, batch size, dec dim]\n",
    "        \n",
    "        # compute the attention score and the weighted sum (context vector)\n",
    "        if self.apply_transition:\n",
    "            a = self.attention(hidden_1.squeeze(0), encoder_outputs, mask)  # a = [batch size, src len]\n",
    "        else:\n",
    "            a = self.attention(hidden, encoder_outputs, mask)\n",
    "        a = a.unsqueeze(1)  # a = [batch size, 1, src len]\n",
    "        encoder_outputs = encoder_outputs.permute(1, 0, 2) # encoder_outputs = [batch size, src len, enc hid dim * 2]      \n",
    "        weighted = torch.bmm(a, encoder_outputs) # weighted = [batch size, 1, enc hid dim * 2]  \n",
    "        weighted = weighted.permute(1, 0, 2) # weighted = [1, batch size, enc hid dim * 2]\n",
    "        \n",
    "        # transition rnn 2\n",
    "        if self.apply_transition:\n",
    "            output_2, hidden_2 = self.trans_rnn2(weighted, hidden_1)\n",
    "            assert (output_2 == hidden_2).all()\n",
    "            # hidden_2 = self.layerNorm(hidden_2)\n",
    "        \n",
    "        # the rest of rnn   \n",
    "        if self.apply_transition:\n",
    "            output, hidden = self.rnn(torch.cat((embedded, hidden_2), dim=2))  # add skip connection\n",
    "        else:\n",
    "            output, hidden = self.rnn(torch.cat((embedded, weighted), dim=2), hidden.unsqueeze(0).repeat(2, 1, 1))\n",
    "        hidden = hidden.view(self.num_layers, 1, embedded.size(1), self.dec_hid_dim)[-1]  # last layer hidden extracted\n",
    "        \n",
    "        #output = [seq len, batch size, dec hid dim * n directions]\n",
    "        #hidden = [n layers * n directions, batch size, dec hid dim]\n",
    "        \n",
    "        #seq len, n layers and n directions will always be 1 in this decoder, therefore:\n",
    "        #output = [1, batch size, dec hid dim]\n",
    "        #hidden = [1, batch size, dec hid dim]\n",
    "        #this also means that output == hidden\n",
    "        assert (output == hidden).all()\n",
    "        hidden = self.layerNorm(hidden)\n",
    "        \n",
    "        embedded = embedded.squeeze(0)\n",
    "        output = output.squeeze(0)\n",
    "        weighted = weighted.squeeze(0)\n",
    "        \n",
    "        prediction = self.fc_out(torch.cat((output, weighted, embedded), dim = 1))  #  prediction = [batch size, output dim]\n",
    "        \n",
    "        return prediction, hidden.squeeze(0), a.squeeze(1)"
   ]
  },
  {
   "cell_type": "markdown",
   "metadata": {
    "colab_type": "text",
    "id": "ARdm29h31mT6"
   },
   "source": [
    "### Seq2Seq\n",
    "\n",
    "The overarching seq2seq model also needs a few changes for packed padded sequences, masking and inference. \n",
    "\n",
    "We need to tell it what the indexes are for the pad token and also pass the source sentence lengths as input to the `forward` method.\n",
    "\n",
    "We use the pad token index to create the masks, by creating a mask tensor that is 1 wherever the source sentence is not equal to the pad token. This is all done within the `create_mask` function.\n",
    "\n",
    "The sequence lengths as needed to pass to the encoder to use packed padded sequences.\n",
    "\n",
    "The attention at each time-step is stored in the `attentions` "
   ]
  },
  {
   "cell_type": "code",
   "execution_count": null,
   "metadata": {
    "colab": {},
    "colab_type": "code",
    "id": "gIZblD_l1mT7"
   },
   "outputs": [],
   "source": [
    "class Seq2Seq(nn.Module):\n",
    "    def __init__(self, encoder, decoder, src_pad_idx, device, teacher_forcing_ratio = 0.5, decoder_pinyin = None):\n",
    "        super().__init__()\n",
    "        self.encoder = encoder\n",
    "        self.fc = nn.Linear(encoder.enc_hid_dim * 2, decoder.dec_hid_dim)\n",
    "        self.decoder = decoder\n",
    "        self.decoder_pinyin = decoder_pinyin\n",
    "        if decoder_pinyin:\n",
    "            self.fc_pinyin = nn.Linear(encoder.enc_hid_dim * 2, decoder_pinyin.dec_hid_dim)\n",
    "        self.src_pad_idx = src_pad_idx\n",
    "        self.device = device\n",
    "        self.teacher_forcing_ratio = teacher_forcing_ratio \n",
    "        \n",
    "    def create_mask(self, src):\n",
    "        mask = (src != self.src_pad_idx).permute(1, 0)\n",
    "        return mask\n",
    "        \n",
    "    def forward(self, src, src_len, trg, pinyin = None):\n",
    "        \n",
    "        # src = [src len, batch size]\n",
    "        # src_len = [batch size]\n",
    "        # trg = [trg len, batch size]\n",
    "        # teacher_forcing_ratio is probability to use teacher forcing\n",
    "        # e.g. if teacher_forcing_ratio is 0.75 we use teacher forcing 75% of the time\n",
    "                    \n",
    "        batch_size = src.shape[1]\n",
    "        trg_len = trg.shape[0]\n",
    "        trg_vocab_size = self.decoder.output_dim\n",
    "        if type(pinyin) != type(None):\n",
    "            pinyin_len = pinyin.shape[0]\n",
    "            pinyin_vocab_size = self.decoder_pinyin.output_dim\n",
    "        \n",
    "        # tensor to store decoder outputs\n",
    "        outputs = torch.zeros(trg_len, batch_size, trg_vocab_size).to(self.device)\n",
    "        if type(pinyin) != type(None):\n",
    "            outputs_pinyin = torch.zeros(pinyin_len, batch_size, pinyin_vocab_size).to(self.device)\n",
    "        \n",
    "        # encoder_outputs is all hidden states of the input sequence, back and forwards\n",
    "        # hidden is the final forward and backward hidden states, passed through a linear layer\n",
    "        encoder_outputs, hidden = self.encoder(src, src_len)\n",
    "        hidden_trg = torch.tanh(self.fc(hidden))\n",
    "        if type(pinyin) != type(None):\n",
    "            hidden_pinyin = torch.tanh(self.fc_pinyin(hidden))\n",
    "                \n",
    "        # first input to the decoder is the <sos> tokens\n",
    "        input_trg = trg[0, :]\n",
    "        if type(pinyin) != type(None):\n",
    "            input_pinyin = pinyin[0, :]\n",
    "        \n",
    "        mask = self.create_mask(src)\n",
    "\n",
    "        #mask = [batch size, src len]\n",
    "                \n",
    "        for t in range(1, trg_len): \n",
    "            \n",
    "            #insert input token embedding, previous hidden state, all encoder hidden states \n",
    "            #  and mask\n",
    "            #receive output tensor (predictions) and new hidden state\n",
    "            output, hidden_trg, _ = self.decoder(input_trg, hidden_trg, encoder_outputs, mask)\n",
    "            \n",
    "            #place predictions in a tensor holding predictions for each token\n",
    "            outputs[t] = output\n",
    "            \n",
    "            #decide if we are going to use teacher forcing or not\n",
    "            teacher_force = random.random() < self.teacher_forcing_ratio\n",
    "            \n",
    "            #get the highest predicted token from our predictions\n",
    "            top1 = output.argmax(1) \n",
    "            \n",
    "            #if teacher forcing, use actual next token as next input\n",
    "            #if not, use predicted token\n",
    "            input_trg = trg[t] if teacher_force else top1\n",
    "            \n",
    "        # For the dual decoder only\n",
    "        if type(pinyin) != type(None):\n",
    "            for t in range(1, pinyin_len): \n",
    "\n",
    "                #insert input token embedding, previous hidden state, all encoder hidden states \n",
    "                #  and mask\n",
    "                #receive output tensor (predictions) and new hidden state\n",
    "                output, hidden_pinyin, _ = self.decoder_pinyin(input_pinyin, hidden_pinyin, encoder_outputs, mask)\n",
    "\n",
    "                #place predictions in a tensor holding predictions for each token\n",
    "                outputs_pinyin[t] = output\n",
    "\n",
    "                #decide if we are going to use teacher forcing or not\n",
    "                teacher_force = random.random() < self.teacher_forcing_ratio\n",
    "\n",
    "                #get the highest predicted token from our predictions\n",
    "                top1 = output.argmax(1) \n",
    "\n",
    "                #if teacher forcing, use actual next token as next input\n",
    "                #if not, use predicted token\n",
    "                input_pinyin = pinyin[t] if teacher_force else top1\n",
    "            \n",
    "            return outputs, outputs_pinyin\n",
    "        \n",
    "        return outputs"
   ]
  },
  {
   "cell_type": "markdown",
   "metadata": {
    "colab_type": "text",
    "id": "6jTdGBd21mUB"
   },
   "source": [
    "## Training the Seq2Seq Model\n",
    "\n",
    "Next up, initializing the model and placing it on the GPU."
   ]
  },
  {
   "cell_type": "code",
   "execution_count": null,
   "metadata": {
    "colab": {},
    "colab_type": "code",
    "id": "DXt0H0He1mUC"
   },
   "outputs": [],
   "source": [
    "INPUT_DIM = len(SRC.vocab)\n",
    "OUTPUT_DIM = len(TRG.vocab)\n",
    "OUTPUT_DIM_str = len(PINYIN_STR.vocab)\n",
    "OUTPUT_DIM_char = len(PINYIN_CHAR.vocab)\n",
    "ENC_EMB_DIM = 256  # 512 in paper, 256 best\n",
    "DEC_EMB_DIM = 256\n",
    "DEC_EMB_DIM2 = 128\n",
    "ENC_HID_DIM = 512  # 1024 in paper, 512 best\n",
    "DEC_HID_DIM = 512\n",
    "DEC_HID_DIM2 = 256\n",
    "ENC_DROPOUT = 0.1\n",
    "DEC_DROPOUT = 0.1\n",
    "SRC_PAD_IDX = SRC.vocab.stoi[SRC.pad_token]\n",
    "# RNN_TYPE = 'LSTM'\n",
    "\n",
    "encoder_num_layer = 2\n",
    "decoder_num_layer = 2\n",
    "\n",
    "attn = Attention(ENC_HID_DIM, DEC_HID_DIM)\n",
    "attn2 = Attention(ENC_HID_DIM, DEC_HID_DIM2)\n",
    "enc = Encoder(INPUT_DIM, ENC_EMB_DIM, ENC_HID_DIM, ENC_DROPOUT, encoder_num_layer)\n",
    "dec = Decoder(OUTPUT_DIM, DEC_EMB_DIM, ENC_HID_DIM, DEC_HID_DIM, DEC_DROPOUT, attn, decoder_num_layer, apply_transition=True)\n",
    "dec2 = Decoder(OUTPUT_DIM_str, DEC_EMB_DIM2, ENC_HID_DIM, DEC_HID_DIM2, DEC_DROPOUT, attn2, decoder_num_layer, apply_transition=True)\n",
    "\n",
    "model = Seq2Seq(enc, dec, SRC_PAD_IDX, device, decoder_pinyin=dec2).to(device)\n",
    "#model = Seq2Seq(enc, dec, SRC_PAD_IDX, device).to(device)"
   ]
  },
  {
   "cell_type": "markdown",
   "metadata": {
    "colab_type": "text",
    "id": "w_mR2U-x1mUE"
   },
   "source": [
    "Then, we initialize the model parameters."
   ]
  },
  {
   "cell_type": "code",
   "execution_count": null,
   "metadata": {
    "colab": {},
    "colab_type": "code",
    "id": "5juu1aQE1mUF",
    "outputId": "68c2858a-e7cd-4d45-9fa8-972d119e1730"
   },
   "outputs": [],
   "source": [
    "def init_weights(m):\n",
    "    for name, param in m.named_parameters():\n",
    "        if 'weight' in name:\n",
    "            nn.init.normal_(param.data, mean=0, std=0.01)\n",
    "        else:\n",
    "            nn.init.constant_(param.data, 0)\n",
    "            \n",
    "show_params = model.apply(init_weights)\n",
    "show_params"
   ]
  },
  {
   "cell_type": "markdown",
   "metadata": {
    "colab_type": "text",
    "id": "grD7GCCE1mUJ"
   },
   "source": [
    "We'll print out the number of trainable parameters in the model, noticing that it has the exact same amount of parameters as the model without these improvements."
   ]
  },
  {
   "cell_type": "code",
   "execution_count": null,
   "metadata": {
    "colab": {},
    "colab_type": "code",
    "id": "ICNpXZa21mUK",
    "outputId": "c2b20b25-c404-4ade-a0f9-46be927cad82"
   },
   "outputs": [],
   "source": [
    "def count_parameters(model):\n",
    "    return sum(p.numel() for p in model.parameters() if p.requires_grad)\n",
    "\n",
    "print(f'The model has {count_parameters(model):,} trainable parameters')"
   ]
  },
  {
   "cell_type": "markdown",
   "metadata": {
    "colab_type": "text",
    "id": "-qUQrWNM1mUM"
   },
   "source": [
    "Then we define our optimizer and criterion. \n",
    "\n",
    "The `ignore_index` for the criterion needs to be the index of the pad token for the target language, not the source language."
   ]
  },
  {
   "cell_type": "code",
   "execution_count": null,
   "metadata": {
    "colab": {},
    "colab_type": "code",
    "id": "A_8YSYQc1mUN"
   },
   "outputs": [],
   "source": [
    "learning_rate = 0.003  # 0.003 in paper\n",
    "patience = 0\n",
    "optimizer = optim.Adam(model.parameters(), lr=learning_rate)\n",
    "# optimizer = optim.SGD(model.parameters(), lr=learning_rate)\n",
    "scheduler = optim.lr_scheduler.ReduceLROnPlateau(\n",
    "                optimizer=optimizer,\n",
    "                mode='max', factor=0.9, # 0.9 in paper\n",
    "                patience=patience)"
   ]
  },
  {
   "cell_type": "code",
   "execution_count": null,
   "metadata": {
    "colab": {},
    "colab_type": "code",
    "id": "FOiXWYvt1mUQ"
   },
   "outputs": [],
   "source": [
    "TRG_PAD_IDX = TRG.vocab.stoi[TRG.pad_token]\n",
    "\n",
    "criterion = nn.CrossEntropyLoss(ignore_index = TRG_PAD_IDX)"
   ]
  },
  {
   "cell_type": "markdown",
   "metadata": {
    "colab_type": "text",
    "id": "juds__YF1mUT"
   },
   "source": [
    "Next, we'll define our training and evaluation loops.\n",
    "\n",
    "As we are using `include_lengths = True` for our source field, `batch.src` is now a tuple with the first element being the numericalized tensor representing the sentence and the second element being the lengths of each sentence within the batch.\n",
    "\n",
    "Our model also returns the attention vectors over the batch of source source sentences for each decoding time-step. We won't use these during the training/evaluation, but we will later for inference."
   ]
  },
  {
   "cell_type": "code",
   "execution_count": null,
   "metadata": {},
   "outputs": [],
   "source": [
    "def update(epoch, valid_loss, valid_acc, \n",
    "           best_valid_loss, best_valid_acc, acc_valid_loss,\n",
    "           update_type='acc'):\n",
    "    global best_valid_epoch, early_stop_patience, full_patience, best_train_step, train_steps\n",
    "    print(\"\\n---------------------------------------\")\n",
    "    print(\"[Epoch: {}][Validatiing...]\".format(epoch))\n",
    "    if valid_loss < best_valid_loss:\n",
    "        print('\\t\\t Better Valid Loss!')\n",
    "        best_valid_loss = valid_loss\n",
    "        if update_type == 'loss':\n",
    "            torch.save(model.state_dict(), 'loss-model.pt')\n",
    "        early_stop_patience = full_patience  # restore full patience if obtain new minimum of the loss\n",
    "    else:\n",
    "        if early_stop_patience > 0:\n",
    "            early_stop_patience += -1\n",
    "    \n",
    "    if valid_acc > best_valid_acc or (valid_acc == best_valid_acc and valid_loss < acc_valid_loss):\n",
    "        print('\\t\\t Better Valid Acc!')\n",
    "        best_valid_acc = valid_acc\n",
    "        acc_valid_loss = valid_loss\n",
    "        best_valid_epoch = epoch\n",
    "        best_train_step = train_steps\n",
    "        if update_type == 'acc':\n",
    "            torch.save(model.state_dict(), 'acc-model.pt')\n",
    "    print(f'\\t patience: {early_stop_patience}/{full_patience}')\n",
    "    print(f'\\t Val. Loss: {valid_loss:.3f} | Val. Acc: {valid_acc:.3f} | Val. PPL: {math.exp(valid_loss):7.3f}')\n",
    "    print(f'\\t BEST. Val. Loss: {best_valid_loss:.3f} | BEST. Val. Acc: {best_valid_acc:.3f} | Val. Loss: {acc_valid_loss:.3f} | BEST. Val. Epoch: {best_valid_epoch} | BEST. Val. Step: {best_train_step}')\n",
    "    print(\"---------------------------------------\\n\")\n",
    "    return best_valid_loss, best_valid_acc, acc_valid_loss"
   ]
  },
  {
   "cell_type": "code",
   "execution_count": null,
   "metadata": {
    "colab": {},
    "colab_type": "code",
    "id": "4tS__mIV1mUU"
   },
   "outputs": [],
   "source": [
    "n_examples = len(train_data.examples)\n",
    "\n",
    "def train(model, iterator, \n",
    "          optimizer, criterion, \n",
    "          clip, epoch,\n",
    "          scheduler, valid_iterator = None, \n",
    "          teacher_forcing_ratio = 0.5,\n",
    "          multi_task = False, multi_task_ratio=0.5):\n",
    "    \n",
    "    model.train()\n",
    "    model.teacher_forcing_ratio = teacher_forcing_ratio\n",
    "    print(\"Current Teacher Forcing Ratio: {:.3f}\".format(model.teacher_forcing_ratio))\n",
    "    \n",
    "    epoch_loss = 0\n",
    "    running_loss = 0\n",
    "    global best_valid_loss, acc_valid_loss, best_valid_acc, best_valid_epoch, train_steps, report_steps\n",
    "    \n",
    "    for i, batch in enumerate(iterator):\n",
    "        \n",
    "        src, src_len = batch.src\n",
    "        trg, trg_len = batch.trg\n",
    "        pinyin, pinyin_len = batch.pinyin_str\n",
    "        \n",
    "        optimizer.zero_grad()\n",
    "        \n",
    "        if multi_task:\n",
    "            output, output_pinyin = model(src, src_len, trg, pinyin=pinyin)\n",
    "        else:\n",
    "            output = model(src, src_len, trg)\n",
    "        \n",
    "        #trg = [trg len, batch size]\n",
    "        #output = [trg len, batch size, output dim]\n",
    "        \n",
    "        output_dim = output.shape[-1]\n",
    "        \n",
    "        output = output[1:].view(-1, output_dim)\n",
    "        trg = trg[1:].view(-1)\n",
    "        \n",
    "        #trg = [(trg len - 1) * batch size]\n",
    "        #output = [(trg len - 1) * batch size, output dim]\n",
    "        \n",
    "        if multi_task:\n",
    "            output_pinyin_dim = output_pinyin.shape[-1]\n",
    "            output_pinyin = output_pinyin[1:].view(-1, output_pinyin_dim)\n",
    "            pinyin = pinyin[1:].view(-1)\n",
    "            loss = (multi_task_ratio * criterion(output, trg)) + ((1 - multi_task_ratio) * criterion(output_pinyin, pinyin))\n",
    "        else:\n",
    "            loss = criterion(output, trg)\n",
    "        \n",
    "        loss.backward()\n",
    "        \n",
    "        torch.nn.utils.clip_grad_norm_(model.parameters(), clip)\n",
    "        \n",
    "        optimizer.step()\n",
    "        \n",
    "        epoch_loss += loss.item()\n",
    "        running_loss = epoch_loss / (i + 1)\n",
    "        \n",
    "        # print every 50 batches (50 steps)\n",
    "        if i % report_steps == report_steps - 1:\n",
    "            train_steps += report_steps  # by doing so, the last batch is neglected\n",
    "            for param_group in optimizer.param_groups:\n",
    "                lr = param_group['lr']\n",
    "            print('[Epoch: {}][#examples: {}/{}][#steps: {}]'.format(epoch, (i+1) * BATCH_SIZE, n_examples, train_steps))\n",
    "            print(f'\\tTrain Loss: {running_loss:.3f} | Train PPL: {math.exp(running_loss):7.3f} | lr: {lr:.3e}')\n",
    "            \n",
    "            # eval the validation set for every * steps\n",
    "            if (train_steps % (10 * report_steps)) == 0:\n",
    "                valid_loss, valid_acc = evaluate(model, valid_iterator, criterion, scheduler, multi_task = multi_task)\n",
    "                test_loss, test_acc = evaluate(model, test_iterator, criterion, scheduler, is_test=True, multi_task=multi_task)\n",
    "                best_valid_loss, best_valid_acc, acc_valid_loss = update(epoch, valid_loss, valid_acc, \n",
    "                                                         best_valid_loss, best_valid_acc, acc_valid_loss,\n",
    "                                                         update_type='acc')\n",
    "                scheduler.step(valid_acc)  # must be placed here otherwise the test acc messes up\n",
    "                model.train()\n",
    "                \n",
    "            \n",
    "    return epoch_loss / len(iterator)"
   ]
  },
  {
   "cell_type": "code",
   "execution_count": null,
   "metadata": {
    "colab": {},
    "colab_type": "code",
    "id": "kB8hD7Xd1mUX"
   },
   "outputs": [],
   "source": [
    "def evaluate(model, iterator, criterion, scheduler, is_test=False, multi_task=False, multi_task_ratio=0.5):\n",
    "    \n",
    "    model.eval()\n",
    "    model.teacher_forcing_ratio = 0 #  turn off teacher forcing\n",
    "    \n",
    "    epoch_loss = 0\n",
    "    correct = 0\n",
    "    correct_pinyin = 0\n",
    "    \n",
    "    global valid_data\n",
    "    global test_data\n",
    "    \n",
    "    with torch.no_grad():\n",
    "    \n",
    "        for i, batch in enumerate(iterator):\n",
    "\n",
    "            src, src_len = batch.src\n",
    "            trg, trg_len = batch.trg\n",
    "            pinyin, pinyin_len = batch.pinyin_str\n",
    "\n",
    "            if multi_task:\n",
    "                output, output_pinyin = model(src, src_len, trg, pinyin=pinyin)\n",
    "            else:\n",
    "                output = model(src, src_len, trg)\n",
    "            \n",
    "            # ---------compute acc START----------\n",
    "            pred = output[1:].argmax(2).permute(1, 0) # [batch_size, trg_len]\n",
    "            ref = trg[1:].permute(1, 0)\n",
    "            # consider the last batch as well\n",
    "            size = pred.shape[0]\n",
    "            for j in range(size):\n",
    "                \n",
    "                pred_j = pred[j, :]\n",
    "                pred_j_toks = []\n",
    "                for t in pred_j:\n",
    "                    tok = TRG.vocab.itos[t]\n",
    "                    if tok == '<eos>':\n",
    "                        break\n",
    "                    else:\n",
    "                        pred_j_toks.append(tok)\n",
    "                pred_j = ''.join(pred_j_toks)\n",
    "                \n",
    "                ref_j = ref[j, :]\n",
    "                ref_j_toks = []\n",
    "                for t in ref_j:\n",
    "                    tok = TRG.vocab.itos[t]\n",
    "                    if tok == '<eos>':\n",
    "                        break\n",
    "                    else:\n",
    "                        ref_j_toks.append(tok)\n",
    "                ref_j = ''.join(ref_j_toks)\n",
    "                \n",
    "                if pred_j == ref_j:\n",
    "                    correct += 1\n",
    "            # ---------compute acc END----------\n",
    "            \n",
    "            # ---------compute acc START----------\n",
    "            if multi_task:\n",
    "                pred_pinyin = output_pinyin[1:].argmax(2).permute(1, 0) # [batch_size, pinyin_len]\n",
    "                ref_pinyin = pinyin[1:].permute(1, 0)\n",
    "                # consider the last batch as well\n",
    "                size = pred_pinyin.shape[0]\n",
    "                for j in range(size):\n",
    "\n",
    "                    pred_j = pred_pinyin[j, :]\n",
    "                    pred_j_toks = []\n",
    "                    for t in pred_j:\n",
    "                        tok = PINYIN_STR.vocab.itos[t]\n",
    "                        if tok == '<eos>':\n",
    "                            break\n",
    "                        else:\n",
    "                            pred_j_toks.append(tok)\n",
    "                    pred_j = ''.join(pred_j_toks)\n",
    "\n",
    "                    ref_j = ref_pinyin[j, :]\n",
    "                    ref_j_toks = []\n",
    "                    for t in ref_j:\n",
    "                        tok = PINYIN_STR.vocab.itos[t]\n",
    "                        if tok == '<eos>':\n",
    "                            break\n",
    "                        else:\n",
    "                            ref_j_toks.append(tok)\n",
    "                    ref_j = ''.join(ref_j_toks)\n",
    "                    \n",
    "                    if pred_j == ref_j:\n",
    "                        correct_pinyin += 1\n",
    "                # ---------compute acc END----------\n",
    "            \n",
    "            \n",
    "            # trg = [trg len, batch size]\n",
    "            # output = [trg len, batch size, output dim]\n",
    "\n",
    "            output_dim = output.shape[-1]\n",
    "            \n",
    "            output = output[1:].view(-1, output_dim)\n",
    "            trg = trg[1:].view(-1)\n",
    "\n",
    "            #trg = [(trg len - 1) * batch size]\n",
    "            #output = [(trg len - 1) * batch size, output dim]\n",
    "\n",
    "            if multi_task:\n",
    "                output_pinyin_dim = output_pinyin.shape[-1]\n",
    "                output_pinyin = output_pinyin[1:].view(-1, output_pinyin_dim)\n",
    "                pinyin = pinyin[1:].view(-1)\n",
    "                loss = (multi_task_ratio * criterion(output, trg)) + ((1 - multi_task_ratio) * criterion(output_pinyin, pinyin))\n",
    "            else:\n",
    "                loss = criterion(output, trg)\n",
    "\n",
    "            epoch_loss += loss.item()\n",
    "        \n",
    "        # compute loss and acc\n",
    "        epoch_loss = epoch_loss / len(iterator)\n",
    "        # sheduler applies on acc\n",
    "        if not is_test:\n",
    "            acc = correct / len(valid_data.examples)\n",
    "            if multi_task:\n",
    "                acc_pinyin = correct_pinyin / len(valid_data.examples)\n",
    "                print('The number of correct pinyin predictions: {}'.format(correct_pinyin))\n",
    "                print('Val Acc on Pinyin: {:.3f}'.format(acc_pinyin))\n",
    "        else:\n",
    "            acc = correct / len(test_data.examples)\n",
    "            if multi_task:\n",
    "                acc_pinyin = correct_pinyin / len(test_data.examples)\n",
    "                print('The number of correct pinyin predictions: {}'.format(correct_pinyin))\n",
    "                print('Val Acc on Pinyin: {:.3f}'.format(acc_pinyin))\n",
    "        \n",
    "        print('The number of correct predictions: {}'.format(correct))\n",
    "        \n",
    "    return epoch_loss, acc"
   ]
  },
  {
   "cell_type": "markdown",
   "metadata": {
    "colab_type": "text",
    "id": "PK2fj3QA1mUa"
   },
   "source": [
    "Then, we'll define a useful function for timing how long epochs take."
   ]
  },
  {
   "cell_type": "code",
   "execution_count": null,
   "metadata": {
    "colab": {},
    "colab_type": "code",
    "id": "dhfIXHW51mUb"
   },
   "outputs": [],
   "source": [
    "def epoch_time(start_time, end_time):\n",
    "    elapsed_time = end_time - start_time\n",
    "    elapsed_mins = int(elapsed_time / 60)\n",
    "    elapsed_secs = int(elapsed_time - (elapsed_mins * 60))\n",
    "    return elapsed_mins, elapsed_secs"
   ]
  },
  {
   "cell_type": "markdown",
   "metadata": {
    "colab_type": "text",
    "id": "YnbkQvJ11mUe"
   },
   "source": [
    "The penultimate step is to train our model. Notice how it takes almost half the time as our model without the improvements added in this notebook."
   ]
  },
  {
   "cell_type": "code",
   "execution_count": null,
   "metadata": {
    "colab": {},
    "colab_type": "code",
    "id": "6Q7smlt_1mUe",
    "outputId": "8019623d-0196-42cc-e733-7c35ee2dd2d1"
   },
   "outputs": [],
   "source": [
    "N_EPOCHS = 40\n",
    "CLIP = 1\n",
    "\n",
    "best_valid_loss = float('inf')\n",
    "acc_valid_loss = float('inf')\n",
    "best_valid_acc = float(-1)\n",
    "best_valid_epoch = -1\n",
    "best_train_step = -1\n",
    "multi_task = True\n",
    "full_patience = 20\n",
    "early_stop_patience = full_patience\n",
    "train_steps = 0\n",
    "report_steps = 50\n",
    "multi_task_ratio = 0.8\n",
    "\n",
    "try:\n",
    "    for epoch in range(N_EPOCHS):\n",
    "        \n",
    "        if epoch <= 15:\n",
    "            early_stop_patience = full_patience\n",
    "        \n",
    "        if early_stop_patience == 0:\n",
    "            print(\"Early Stopping!\")\n",
    "            # break\n",
    "            # abandon early stopping because we found best epoch in a long run\n",
    "            \n",
    "        start_time = time.time()\n",
    "        \n",
    "        tfr = max(1 - (float(10 + epoch * 1.5) / 50), 0.2) \n",
    "            \n",
    "        train_loss = train(model, train_iterator, optimizer, criterion, CLIP, epoch, scheduler, \n",
    "                           valid_iterator, teacher_forcing_ratio = tfr, \n",
    "                           multi_task=multi_task, multi_task_ratio=multi_task_ratio)\n",
    "        \n",
    "        valid_loss, valid_acc = evaluate(model, valid_iterator, criterion, scheduler, is_test=False, \n",
    "                                         multi_task=multi_task, multi_task_ratio=multi_task_ratio)\n",
    "        #test_loss, test_acc = evaluate(model, test_iterator, criterion, scheduler, is_test=True, multi_task=multi_task)\n",
    "\n",
    "        end_time = time.time()\n",
    "\n",
    "        epoch_mins, epoch_secs = epoch_time(start_time, end_time)\n",
    "\n",
    "        best_valid_loss, best_valid_acc, acc_valid_loss = update(epoch, valid_loss, valid_acc, \n",
    "                                                 best_valid_loss, best_valid_acc, acc_valid_loss, update_type='acc')\n",
    "\n",
    "        print(f'Epoch: {epoch+1:02} | Time: {epoch_mins}m {epoch_secs}s')\n",
    "        print(f'\\tTrain Loss: {train_loss:.3f} | Train PPL: {math.exp(train_loss):7.3f}')\n",
    "        print(f'\\t Val. Loss: {valid_loss:.3f} | Val. Acc: {valid_acc:.3f} | Val. PPL: {math.exp(valid_loss):7.3f}')\n",
    "        # print(f'\\t Test Loss: {test_loss:.3f} | Test PPL: {math.exp(test_loss):7.3f} | Test ACC: {test_acc:.3f}')\n",
    "except KeyboardInterrupt:\n",
    "        print(\"Exiting loop\")"
   ]
  },
  {
   "cell_type": "markdown",
   "metadata": {
    "colab_type": "text",
    "id": "OLFgfodV1mUi"
   },
   "source": [
    "Finally, we load the parameters from our best validation loss and get our results on the test set.\n",
    "\n",
    "We get the improved test perplexity whilst almost being twice as fast!"
   ]
  },
  {
   "cell_type": "code",
   "execution_count": null,
   "metadata": {
    "colab": {},
    "colab_type": "code",
    "id": "ibSA1rpN1mUj",
    "outputId": "e52bab03-08f1-4f9c-b489-cf7a827065cf"
   },
   "outputs": [],
   "source": [
    "model.load_state_dict(torch.load('acc-model.pt'))\n",
    "\n",
    "valid_loss, valid_acc = evaluate(model, valid_iterator, criterion, scheduler, is_test=False)\n",
    "test_loss, test_acc = evaluate(model, test_iterator, criterion, scheduler, is_test=True)\n",
    "\n",
    "# Note that the final translation accs might differ from below because of floating point error.\n",
    "# But they should be the same in most of the cases.\n",
    "print(f'| Valid Loss: {valid_loss:.3f} | Valid PPL: {math.exp(valid_loss):7.3f} | Valid ACC: {valid_acc:.3f}')\n",
    "print(f'| Test Loss: {test_loss:.3f} | Test PPL: {math.exp(test_loss):7.3f} | Test ACC: {test_acc:.3f}')"
   ]
  },
  {
   "cell_type": "markdown",
   "metadata": {
    "colab_type": "text",
    "id": "gwEMmNef1mUl"
   },
   "source": [
    "## Inference\n",
    "\n",
    "Now we can use our trained model to generate translations.\n",
    "\n",
    "**Note:** these translations will be poor compared to examples shown in paper as they use hidden dimension sizes of 1000 and train for 4 days! They have been cherry picked in order to show off what attention should look like on a sufficiently sized model.\n",
    "\n",
    "Our `translate_sentence` will do the following:\n",
    "- ensure our model is in evaluation mode, which it should always be for inference\n",
    "- tokenize the source sentence if it has not been tokenized (is a string)\n",
    "- numericalize the source sentence\n",
    "- convert it to a tensor and add a batch dimension\n",
    "- get the length of the source sentence and convert to a tensor\n",
    "- feed the source sentence into the encoder\n",
    "- create the mask for the source sentence\n",
    "- create a list to hold the output sentence, initialized with an `<sos>` token\n",
    "- create a tensor to hold the attention values\n",
    "- while we have not hit a maximum length\n",
    "  - get the input tensor, which should be either `<sos>` or the last predicted token\n",
    "  - feed the input, all encoder outputs, hidden state and mask into the decoder\n",
    "  - store attention values\n",
    "  - get the predicted next token\n",
    "  - add prediction to current output sentence prediction\n",
    "  - break if the prediction was an `<eos>` token\n",
    "- convert the output sentence from indexes to tokens\n",
    "- return the output sentence (with the `<sos>` token removed) and the attention values over the sequence"
   ]
  },
  {
   "cell_type": "code",
   "execution_count": null,
   "metadata": {
    "colab": {},
    "colab_type": "code",
    "id": "SDE6HbGy1mUm"
   },
   "outputs": [],
   "source": [
    "def translate_sentence(sentence, src_field, trg_field, model, device, max_len = 50):\n",
    "\n",
    "    model.eval()\n",
    "        \n",
    "    # lower-cased\n",
    "    tokens = [token.lower() for token in sentence]\n",
    "\n",
    "    # add <sos> and <eos>\n",
    "    tokens = [src_field.init_token] + tokens + [src_field.eos_token]\n",
    "    \n",
    "    # vectorized\n",
    "    src_indexes = [src_field.vocab.stoi[token] for token in tokens]\n",
    "    \n",
    "    src_tensor = torch.LongTensor(src_indexes).unsqueeze(1).to(device)\n",
    "\n",
    "    src_len = torch.LongTensor([len(src_indexes)]).to(device)\n",
    "    \n",
    "    with torch.no_grad():\n",
    "        encoder_outputs, hidden = model.encoder(src_tensor, src_len)\n",
    "        hidden = torch.tanh(model.fc(hidden))\n",
    "\n",
    "    mask = model.create_mask(src_tensor)\n",
    "        \n",
    "    trg_indexes = [trg_field.vocab.stoi[trg_field.init_token]]\n",
    "\n",
    "    attentions = torch.zeros(max_len, 1, len(src_indexes)).to(device)\n",
    "    \n",
    "    for i in range(max_len):\n",
    "\n",
    "        trg_tensor = torch.LongTensor([trg_indexes[-1]]).to(device)\n",
    "                \n",
    "        with torch.no_grad():\n",
    "            output, hidden, attention = model.decoder(trg_tensor, hidden, encoder_outputs, mask)\n",
    "\n",
    "        attentions[i] = attention\n",
    "            \n",
    "        pred_token = output.argmax(1).item()\n",
    "        \n",
    "        trg_indexes.append(pred_token)\n",
    "\n",
    "        if pred_token == trg_field.vocab.stoi[trg_field.eos_token]:\n",
    "            break\n",
    "    \n",
    "    trg_tokens = [trg_field.vocab.itos[i] for i in trg_indexes]\n",
    "    \n",
    "    return trg_tokens[1:], attentions[:len(trg_tokens)-1]"
   ]
  },
  {
   "cell_type": "markdown",
   "metadata": {
    "colab_type": "text",
    "id": "tkEY28DU1mUq"
   },
   "source": [
    "Next, we'll make a function that displays the model's attention over the source sentence for each target token generated."
   ]
  },
  {
   "cell_type": "code",
   "execution_count": null,
   "metadata": {
    "colab": {},
    "colab_type": "code",
    "id": "jUlOVYGQ1mUr"
   },
   "outputs": [],
   "source": [
    "def display_attention(sentence, translation, attention):\n",
    "    \n",
    "    fig = plt.figure(figsize=(10,10))\n",
    "    ax = fig.add_subplot(111)\n",
    "    \n",
    "    attention = attention.squeeze(1).cpu().detach().numpy()\n",
    "    \n",
    "    cax = ax.matshow(attention, cmap='bone')\n",
    "   \n",
    "    ax.tick_params(labelsize=15)\n",
    "    ax.set_xticklabels(['']+['<sos>']+[t.lower() for t in sentence]+['<eos>'], \n",
    "                       rotation=45)\n",
    "    ax.set_yticklabels(['']+translation)\n",
    "\n",
    "    ax.xaxis.set_major_locator(ticker.MultipleLocator(1))\n",
    "    ax.yaxis.set_major_locator(ticker.MultipleLocator(1))\n",
    "\n",
    "    plt.show()\n",
    "    plt.close()"
   ]
  },
  {
   "cell_type": "markdown",
   "metadata": {
    "colab_type": "text",
    "id": "YJGeQMor1mUu"
   },
   "source": [
    "Now, we'll grab some translations from our dataset and see how well our model did. Note, we're going to cherry pick examples here so it gives us something interesting to look at, but feel free to change the `example_idx` value to look at different examples.\n",
    "\n",
    "First, we'll get a source and target from our dataset."
   ]
  },
  {
   "cell_type": "code",
   "execution_count": null,
   "metadata": {
    "colab": {},
    "colab_type": "code",
    "id": "OqCCXVFm1mUu",
    "outputId": "e136b808-1737-4804-97b5-45b7c3478644"
   },
   "outputs": [],
   "source": [
    "example_idx = 1001\n",
    "\n",
    "src = vars(train_data.examples[example_idx])['src']\n",
    "trg = vars(train_data.examples[example_idx])['trg']\n",
    "\n",
    "print(f'src = {src}')\n",
    "print(f'trg = {trg}')"
   ]
  },
  {
   "cell_type": "markdown",
   "metadata": {
    "colab_type": "text",
    "id": "kGJ_Vuxq1mUz"
   },
   "source": [
    "Then we'll use our `translate_sentence` function to get our predicted translation and attention. We show this graphically by having the source sentence on the x-axis and the predicted translation on the y-axis. The lighter the square at the intersection between two words, the more attention the model gave to that source word when translating that target word.\n",
    "\n",
    "Below is an example the model attempted to translate, it gets the translation correct except changes *are fighting* to just *fighting*."
   ]
  },
  {
   "cell_type": "code",
   "execution_count": null,
   "metadata": {
    "colab": {},
    "colab_type": "code",
    "id": "XgQU65HD1mU0",
    "outputId": "b848a70f-f5b2-4df7-9630-a62d5450f973"
   },
   "outputs": [],
   "source": [
    "translation, attention = translate_sentence(src, SRC, TRG, model, device)\n",
    "\n",
    "print(f'predicted trg = {translation}')"
   ]
  },
  {
   "cell_type": "code",
   "execution_count": null,
   "metadata": {
    "colab": {},
    "colab_type": "code",
    "id": "38Azr5RT1mU2",
    "outputId": "0663e641-83e3-4c1b-8088-cfbb30123b46"
   },
   "outputs": [],
   "source": [
    "display_attention(src, translation, attention)"
   ]
  },
  {
   "cell_type": "markdown",
   "metadata": {
    "colab_type": "text",
    "id": "O5LnaW3s1mU7"
   },
   "source": [
    "Translations from the training set could simply be memorized by the model. So it's only fair we look at translations from the validation and testing set too.\n",
    "\n",
    "Starting with the validation set, let's get an example."
   ]
  },
  {
   "cell_type": "markdown",
   "metadata": {},
   "source": [
    "---------------\n",
    "### Evaluation on the validation set (Customised)"
   ]
  },
  {
   "cell_type": "code",
   "execution_count": null,
   "metadata": {},
   "outputs": [],
   "source": [
    "def evaluate_trans(data, mode='TRG'):\n",
    "    # Translate all valid set and report Accuracy\n",
    "    result = pd.DataFrame(columns=[\"SRC\", \"PRED\", \"TRG\"])\n",
    "    i = 0\n",
    "    for exp in data.examples:\n",
    "        if mode == 'PINYIN':\n",
    "            pred = translate_sentence(vars(exp)['src'], SRC, PINYIN_STR, model, device)[0][:-1]\n",
    "            result.loc[str(i)] = ([\"\".join(vars(exp)['src']), \"\".join(pred), \"\".join(vars(exp)['pinyin_str'])])\n",
    "        else:\n",
    "            pred = translate_sentence(vars(exp)['src'], SRC, TRG, model, device)[0][:-1]\n",
    "            result.loc[str(i)] = ([\"\".join(vars(exp)['src']), \"\".join(pred), \"\".join(vars(exp)['trg'])])\n",
    "        i += 1\n",
    "    # print(np.sum(result['PRED'] == result['TRG']))\n",
    "    acc = np.sum(result['PRED'] == result['TRG']) / len(data.examples)\n",
    "    return result, acc"
   ]
  },
  {
   "cell_type": "code",
   "execution_count": null,
   "metadata": {},
   "outputs": [],
   "source": [
    "result_valid, acc_valid = evaluate_trans(valid_data)\n",
    "result_test, acc_test = evaluate_trans(test_data)\n",
    "acc_valid, acc_test"
   ]
  },
  {
   "cell_type": "code",
   "execution_count": null,
   "metadata": {},
   "outputs": [],
   "source": [
    "count = 0\n",
    "for i, dp in result_test.iterrows():\n",
    "    if dp['PRED'] in dev_json[dp['SRC']]:\n",
    "        count += 1\n",
    "acc_test_multi = count / len(test_data.examples)\n",
    "acc_test_multi"
   ]
  },
  {
   "cell_type": "code",
   "execution_count": null,
   "metadata": {
    "scrolled": true
   },
   "outputs": [],
   "source": [
    "num = 4\n",
    "result_valid.to_excel('experiments/' + 'exp' + str(num) + '/valid_result' + '.xlsx', index=False)\n",
    "result_test.to_excel('experiments/' + 'exp' + str(num) + '/test_result' + '.xlsx', index=False)"
   ]
  },
  {
   "cell_type": "code",
   "execution_count": null,
   "metadata": {},
   "outputs": [],
   "source": [
    "with open('experiments/' + 'exp' + str(num) + '/acc.txt', 'w+', encoding='utf-8') as f:\n",
    "    f.write('Valid Accuracy: {}\\n'.format(acc_valid))\n",
    "    f.write('Test Accuracy: {}\\n'.format(acc_test))\n",
    "    # f.write('Test Accuracy (Multi): {}\\n'.format(acc_test_multi))\n",
    "    f.write('Test Loss: {}\\n'.format(test_loss))\n",
    "\n",
    "with open('experiments/' + 'exp' + str(num) + '/setting.txt', 'w+', encoding='utf-8') as f:\n",
    "    f.write('Params #: {}\\n{}'.format(count_parameters(model), show_params))"
   ]
  },
  {
   "cell_type": "code",
   "execution_count": null,
   "metadata": {},
   "outputs": [],
   "source": [
    "with open('experiments/' + 'exp' + str(num) + '/valid_pred.txt', 'w+', encoding='utf-8') as f:\n",
    "    for p in result_valid['PRED']:\n",
    "        f.write(' '.join(p) + '\\n')\n",
    "        \n",
    "with open('experiments/' + 'exp' + str(num) + '/valid_ref.txt', 'w+', encoding='utf-8') as f:\n",
    "    for p in result_valid['TRG']:\n",
    "        f.write(' '.join(p) + '\\n')\n",
    "        \n",
    "with open('experiments/' + 'exp' + str(num) + '/test_pred.txt', 'w+', encoding='utf-8') as f:\n",
    "    for p in result_test['PRED']:\n",
    "        f.write(' '.join(p) + '\\n')\n",
    "        \n",
    "with open('experiments/' + 'exp' + str(num) + '/test_ref.txt', 'w+', encoding='utf-8') as f:\n",
    "    for p in result_test['TRG']:\n",
    "        f.write(' '.join(p) + '\\n')"
   ]
  },
  {
   "cell_type": "markdown",
   "metadata": {},
   "source": [
    "-------------------"
   ]
  },
  {
   "cell_type": "code",
   "execution_count": null,
   "metadata": {
    "colab": {},
    "colab_type": "code",
    "id": "0fiHWv8G1mU8",
    "outputId": "9f29eba6-7ea3-4f6b-864f-f207f376e833"
   },
   "outputs": [],
   "source": [
    "example_idx = 14\n",
    "\n",
    "src = vars(valid_data.examples[example_idx])['src']\n",
    "trg = vars(valid_data.examples[example_idx])['trg']\n",
    "\n",
    "print(f'src = {src}')\n",
    "print(f'trg = {trg}')"
   ]
  },
  {
   "cell_type": "markdown",
   "metadata": {
    "colab_type": "text",
    "id": "YDGSLCcV1mU-"
   },
   "source": [
    "Then let's generate our translation and view the attention.\n",
    "\n",
    "Here, we can see the translation is the same except for swapping *female* with *woman*."
   ]
  },
  {
   "cell_type": "code",
   "execution_count": null,
   "metadata": {
    "colab": {},
    "colab_type": "code",
    "id": "iNzWVA991mU-",
    "outputId": "4a072ba7-bc4a-41d8-ff4c-61d998ee9245"
   },
   "outputs": [],
   "source": [
    "translation, attention = translate_sentence(src, SRC, TRG, model, device)\n",
    "\n",
    "print(f'predicted trg = {translation}')\n",
    "\n",
    "display_attention(src, translation, attention)"
   ]
  },
  {
   "cell_type": "markdown",
   "metadata": {
    "colab_type": "text",
    "id": "UNWieCDH1mVC"
   },
   "source": [
    "Finally, let's get an example from the test set."
   ]
  },
  {
   "cell_type": "code",
   "execution_count": null,
   "metadata": {
    "colab": {},
    "colab_type": "code",
    "id": "EdSr3bEy1mVD",
    "outputId": "0d2b458a-db95-4bcb-da17-39d64bed8261"
   },
   "outputs": [],
   "source": [
    "example_idx = 18\n",
    "\n",
    "src = vars(test_data.examples[example_idx])['src']\n",
    "trg = vars(test_data.examples[example_idx])['trg']\n",
    "\n",
    "print(f'src = {src}')\n",
    "print(f'trg = {trg}')"
   ]
  },
  {
   "cell_type": "markdown",
   "metadata": {
    "colab_type": "text",
    "id": "3QbilqqK1mVF"
   },
   "source": [
    "Again, it produces a slightly different translation than target, a more literal version of the source sentence. It swaps *mountain climbing* for *climbing on a mountain*."
   ]
  },
  {
   "cell_type": "code",
   "execution_count": null,
   "metadata": {
    "colab": {},
    "colab_type": "code",
    "id": "hJDKcuJW1mVG",
    "outputId": "4c61945c-6f2c-4192-c610-8c01ce89b96d"
   },
   "outputs": [],
   "source": [
    "translation, attention = translate_sentence(src, SRC, TRG, model, device)\n",
    "\n",
    "print(f'predicted trg = {translation}')\n",
    "\n",
    "display_attention(src, translation, attention)"
   ]
  },
  {
   "cell_type": "markdown",
   "metadata": {
    "colab_type": "text",
    "id": "lrTk0S3C1mVI"
   },
   "source": [
    "## BLEU\n",
    "\n",
    "Previously we have only cared about the loss/perplexity of the model. However there metrics that are specifically designed for measuring the quality of a translation - the most popular is *BLEU*. Without going into too much detail, BLEU looks at the overlap in the predicted and actual target sequences in terms of their n-grams. It will give us a number between 0 and 1 for each sequence, where 1 means there is perfect overlap, i.e. a perfect translation, although is usually shown between 0 and 100. BLEU was designed for multiple candidate translations per source sequence, however in this dataset we only have one candidate per source.\n",
    "\n",
    "We define a `calculate_bleu` function which calculates the BLEU score over a provided TorchText dataset. This function creates a corpus of the actual and predicted translation for each source sentence and then calculates the BLEU score."
   ]
  },
  {
   "cell_type": "code",
   "execution_count": null,
   "metadata": {
    "colab": {},
    "colab_type": "code",
    "id": "x-g-8tu41mVJ"
   },
   "outputs": [],
   "source": [
    "from torchtext.data.metrics import bleu_score\n",
    "\n",
    "def calculate_bleu(data, src_field, trg_field, model, device, max_len = 50):\n",
    "    \n",
    "    trgs = []\n",
    "    pred_trgs = []\n",
    "    \n",
    "    for datum in data:\n",
    "        \n",
    "        src = vars(datum)['src']\n",
    "        trg = vars(datum)['trg']\n",
    "        \n",
    "        pred_trg, _ = translate_sentence(src, src_field, trg_field, model, device, max_len)\n",
    "        \n",
    "        #cut off <eos> token\n",
    "        pred_trg = pred_trg[:-1]\n",
    "        \n",
    "        pred_trgs.append(pred_trg)\n",
    "        trgs.append([trg])\n",
    "        \n",
    "    return bleu_score(pred_trgs, trgs)"
   ]
  },
  {
   "cell_type": "markdown",
   "metadata": {
    "colab_type": "text",
    "id": "z1eO09A01mVN"
   },
   "source": [
    "We get a BLEU of around 29. If we compare it to the paper that the attention model is attempting to replicate, they achieve a BLEU score of 26.75. This is similar to our score, however they are using a completely different dataset and their model size is much larger - 1000 hidden dimensions which takes 4 days to train! - so we cannot really compare against that either.\n",
    "\n",
    "This number isn't really interpretable, we can't really say much about it. The most useful part of a BLEU score is that it can be used to compare different models on the same dataset, where the one with the **higher** BLEU score is \"better\"."
   ]
  },
  {
   "cell_type": "code",
   "execution_count": null,
   "metadata": {
    "colab": {},
    "colab_type": "code",
    "id": "NL_HuTp21mVO",
    "outputId": "c3c766ea-a982-4b33-cf7f-19cbf488a1f6"
   },
   "outputs": [],
   "source": [
    "bleu_score = calculate_bleu(test_data, SRC, TRG, model, device)\n",
    "\n",
    "print(f'BLEU score = {bleu_score*100:.2f}')"
   ]
  },
  {
   "cell_type": "markdown",
   "metadata": {
    "colab_type": "text",
    "id": "PYxnY9tD1mVU"
   },
   "source": [
    "In the next tutorials we will be moving away from using recurrent neural networks and start looking at other ways to construct sequence-to-sequence models. Specifically, in the next tutorial we will be using convolutional neural networks."
   ]
  }
 ],
 "metadata": {
  "colab": {
   "name": "Copy of 4 - Packed Padded Sequences, Masking, Inference and BLEU.ipynb",
   "provenance": [
    {
     "file_id": "https://github.com/bentrevett/pytorch-seq2seq/blob/master/4%20-%20Packed%20Padded%20Sequences%2C%20Masking%2C%20Inference%20and%20BLEU.ipynb",
     "timestamp": 1580765537734
    }
   ]
  },
  "kernelspec": {
   "display_name": "Python 3",
   "language": "python",
   "name": "python3"
  },
  "language_info": {
   "codemirror_mode": {
    "name": "ipython",
    "version": 3
   },
   "file_extension": ".py",
   "mimetype": "text/x-python",
   "name": "python",
   "nbconvert_exporter": "python",
   "pygments_lexer": "ipython3",
   "version": "3.7.4"
  }
 },
 "nbformat": 4,
 "nbformat_minor": 1
}
