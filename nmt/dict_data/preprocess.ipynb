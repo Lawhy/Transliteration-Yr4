{
 "cells": [
  {
   "cell_type": "code",
   "execution_count": 2,
   "metadata": {},
   "outputs": [],
   "source": [
    "import pandas as pd"
   ]
  },
  {
   "cell_type": "code",
   "execution_count": 6,
   "metadata": {},
   "outputs": [],
   "source": [
    "def preprocess(path):\n",
    "    df = pd.read_csv(path, sep='\\t')\n",
    "    df['SRC'] = df['SRC'].apply(lambda x: ' '.join(x))\n",
    "    df['TRG'] = df['TRG'].apply(lambda x: ' '.join(x))\n",
    "    df.to_csv(path, sep='\\t', index=False)\n",
    "    return df"
   ]
  },
  {
   "cell_type": "code",
   "execution_count": 8,
   "metadata": {},
   "outputs": [
    {
     "data": {
      "text/html": [
       "<div>\n",
       "<style scoped>\n",
       "    .dataframe tbody tr th:only-of-type {\n",
       "        vertical-align: middle;\n",
       "    }\n",
       "\n",
       "    .dataframe tbody tr th {\n",
       "        vertical-align: top;\n",
       "    }\n",
       "\n",
       "    .dataframe thead th {\n",
       "        text-align: right;\n",
       "    }\n",
       "</style>\n",
       "<table border=\"1\" class=\"dataframe\">\n",
       "  <thead>\n",
       "    <tr style=\"text-align: right;\">\n",
       "      <th></th>\n",
       "      <th>SRC</th>\n",
       "      <th>TRG</th>\n",
       "      <th>PINYIN_STR</th>\n",
       "      <th>PINYIN_CHAR</th>\n",
       "    </tr>\n",
       "  </thead>\n",
       "  <tbody>\n",
       "    <tr>\n",
       "      <td>0</td>\n",
       "      <td>s e d g e s</td>\n",
       "      <td>塞 奇 斯</td>\n",
       "      <td>sai qi si</td>\n",
       "      <td>s a i q i s i</td>\n",
       "    </tr>\n",
       "    <tr>\n",
       "      <td>1</td>\n",
       "      <td>a n d o l s e k</td>\n",
       "      <td>安 多 尔 塞 克</td>\n",
       "      <td>an duo er sai ke</td>\n",
       "      <td>a n d u o e r s a i k e</td>\n",
       "    </tr>\n",
       "    <tr>\n",
       "      <td>2</td>\n",
       "      <td>m a c t r a d e r</td>\n",
       "      <td>麦 克 特 雷 德</td>\n",
       "      <td>mai ke te lei de</td>\n",
       "      <td>m a i k e t e l e i d e</td>\n",
       "    </tr>\n",
       "    <tr>\n",
       "      <td>3</td>\n",
       "      <td>s c h e f f e y</td>\n",
       "      <td>谢 菲</td>\n",
       "      <td>xie fei</td>\n",
       "      <td>x i e f e i</td>\n",
       "    </tr>\n",
       "    <tr>\n",
       "      <td>4</td>\n",
       "      <td>f o l k</td>\n",
       "      <td>福 克</td>\n",
       "      <td>fu ke</td>\n",
       "      <td>f u k e</td>\n",
       "    </tr>\n",
       "    <tr>\n",
       "      <td>...</td>\n",
       "      <td>...</td>\n",
       "      <td>...</td>\n",
       "      <td>...</td>\n",
       "      <td>...</td>\n",
       "    </tr>\n",
       "    <tr>\n",
       "      <td>5823</td>\n",
       "      <td>s c a d d i n g</td>\n",
       "      <td>斯 卡 丁</td>\n",
       "      <td>si ka ding</td>\n",
       "      <td>s i k a d i n g</td>\n",
       "    </tr>\n",
       "    <tr>\n",
       "      <td>5824</td>\n",
       "      <td>b a g e a n t</td>\n",
       "      <td>巴 金 特</td>\n",
       "      <td>ba jin te</td>\n",
       "      <td>b a j i n t e</td>\n",
       "    </tr>\n",
       "    <tr>\n",
       "      <td>5825</td>\n",
       "      <td>s t e n w i g</td>\n",
       "      <td>斯 滕 维 格</td>\n",
       "      <td>si teng wei ge</td>\n",
       "      <td>s i t e n g w e i g e</td>\n",
       "    </tr>\n",
       "    <tr>\n",
       "      <td>5826</td>\n",
       "      <td>r i g h t m i r e</td>\n",
       "      <td>赖 特 迈 尔</td>\n",
       "      <td>lai te mai er</td>\n",
       "      <td>l a i t e m a i e r</td>\n",
       "    </tr>\n",
       "    <tr>\n",
       "      <td>5827</td>\n",
       "      <td>m a c h e y n e</td>\n",
       "      <td>麦 克 谢 恩</td>\n",
       "      <td>mai ke xie en</td>\n",
       "      <td>m a i k e x i e e n</td>\n",
       "    </tr>\n",
       "  </tbody>\n",
       "</table>\n",
       "<p>5828 rows × 4 columns</p>\n",
       "</div>"
      ],
      "text/plain": [
       "                    SRC        TRG        PINYIN_STR              PINYIN_CHAR\n",
       "0           s e d g e s      塞 奇 斯         sai qi si            s a i q i s i\n",
       "1       a n d o l s e k  安 多 尔 塞 克  an duo er sai ke  a n d u o e r s a i k e\n",
       "2     m a c t r a d e r  麦 克 特 雷 德  mai ke te lei de  m a i k e t e l e i d e\n",
       "3       s c h e f f e y        谢 菲           xie fei              x i e f e i\n",
       "4               f o l k        福 克             fu ke                  f u k e\n",
       "...                 ...        ...               ...                      ...\n",
       "5823    s c a d d i n g      斯 卡 丁        si ka ding          s i k a d i n g\n",
       "5824      b a g e a n t      巴 金 特         ba jin te            b a j i n t e\n",
       "5825      s t e n w i g    斯 滕 维 格    si teng wei ge    s i t e n g w e i g e\n",
       "5826  r i g h t m i r e    赖 特 迈 尔     lai te mai er      l a i t e m a i e r\n",
       "5827    m a c h e y n e    麦 克 谢 恩     mai ke xie en      m a i k e x i e e n\n",
       "\n",
       "[5828 rows x 4 columns]"
      ]
     },
     "execution_count": 8,
     "metadata": {},
     "output_type": "execute_result"
    }
   ],
   "source": [
    "preprocess('train.tsv')\n",
    "preprocess('valid.tsv')\n",
    "preprocess('test.tsv')"
   ]
  },
  {
   "cell_type": "code",
   "execution_count": 4,
   "metadata": {},
   "outputs": [],
   "source": [
    "ppl_dict = pd.read_excel('../../data/dict_data/preprocess/people_dict.xlsx')"
   ]
  },
  {
   "cell_type": "code",
   "execution_count": 8,
   "metadata": {},
   "outputs": [],
   "source": [
    "ppl_dict = ppl_dict.rename(columns={\"Unnamed: 0\": \"en\"})"
   ]
  },
  {
   "cell_type": "code",
   "execution_count": 11,
   "metadata": {},
   "outputs": [
    {
     "data": {
      "text/html": [
       "<div>\n",
       "<style scoped>\n",
       "    .dataframe tbody tr th:only-of-type {\n",
       "        vertical-align: middle;\n",
       "    }\n",
       "\n",
       "    .dataframe tbody tr th {\n",
       "        vertical-align: top;\n",
       "    }\n",
       "\n",
       "    .dataframe thead th {\n",
       "        text-align: right;\n",
       "    }\n",
       "</style>\n",
       "<table border=\"1\" class=\"dataframe\">\n",
       "  <thead>\n",
       "    <tr style=\"text-align: right;\">\n",
       "      <th></th>\n",
       "      <th>en</th>\n",
       "      <th>ch1</th>\n",
       "      <th>ch2</th>\n",
       "      <th>ch3</th>\n",
       "    </tr>\n",
       "  </thead>\n",
       "  <tbody>\n",
       "    <tr>\n",
       "      <td>count</td>\n",
       "      <td>58320</td>\n",
       "      <td>58320</td>\n",
       "      <td>459</td>\n",
       "      <td>5</td>\n",
       "    </tr>\n",
       "    <tr>\n",
       "      <td>unique</td>\n",
       "      <td>58320</td>\n",
       "      <td>42924</td>\n",
       "      <td>365</td>\n",
       "      <td>5</td>\n",
       "    </tr>\n",
       "    <tr>\n",
       "      <td>top</td>\n",
       "      <td>Loughran</td>\n",
       "      <td>莫尔</td>\n",
       "      <td>乔斯琳</td>\n",
       "      <td>弗蕾达</td>\n",
       "    </tr>\n",
       "    <tr>\n",
       "      <td>freq</td>\n",
       "      <td>1</td>\n",
       "      <td>18</td>\n",
       "      <td>10</td>\n",
       "      <td>1</td>\n",
       "    </tr>\n",
       "  </tbody>\n",
       "</table>\n",
       "</div>"
      ],
      "text/plain": [
       "              en    ch1  ch2  ch3\n",
       "count      58320  58320  459    5\n",
       "unique     58320  42924  365    5\n",
       "top     Loughran     莫尔  乔斯琳  弗蕾达\n",
       "freq           1     18   10    1"
      ]
     },
     "execution_count": 11,
     "metadata": {},
     "output_type": "execute_result"
    }
   ],
   "source": [
    "ppl_dict.describe()"
   ]
  },
  {
   "cell_type": "code",
   "execution_count": 14,
   "metadata": {},
   "outputs": [],
   "source": [
    "multi_ans = ppl_dict.dropna(subset=['ch1', 'ch2'])"
   ]
  },
  {
   "cell_type": "code",
   "execution_count": 15,
   "metadata": {},
   "outputs": [],
   "source": [
    "test = pd.read_csv('test.tsv', sep='\\t')"
   ]
  },
  {
   "cell_type": "code",
   "execution_count": 18,
   "metadata": {},
   "outputs": [
    {
     "name": "stderr",
     "output_type": "stream",
     "text": [
      "/disk/ocean/lhe/conda/envs/pytorch/lib/python3.7/site-packages/ipykernel_launcher.py:1: SettingWithCopyWarning: \n",
      "A value is trying to be set on a copy of a slice from a DataFrame.\n",
      "Try using .loc[row_indexer,col_indexer] = value instead\n",
      "\n",
      "See the caveats in the documentation: http://pandas.pydata.org/pandas-docs/stable/user_guide/indexing.html#returning-a-view-versus-a-copy\n",
      "  \"\"\"Entry point for launching an IPython kernel.\n"
     ]
    }
   ],
   "source": [
    "multi_ans['en'] = multi_ans['en'].apply(lambda x: ' '.join(x.lower()))"
   ]
  },
  {
   "cell_type": "code",
   "execution_count": 21,
   "metadata": {},
   "outputs": [
    {
     "data": {
      "text/html": [
       "<div>\n",
       "<style scoped>\n",
       "    .dataframe tbody tr th:only-of-type {\n",
       "        vertical-align: middle;\n",
       "    }\n",
       "\n",
       "    .dataframe tbody tr th {\n",
       "        vertical-align: top;\n",
       "    }\n",
       "\n",
       "    .dataframe thead th {\n",
       "        text-align: right;\n",
       "    }\n",
       "</style>\n",
       "<table border=\"1\" class=\"dataframe\">\n",
       "  <thead>\n",
       "    <tr style=\"text-align: right;\">\n",
       "      <th></th>\n",
       "      <th>en</th>\n",
       "      <th>ch1</th>\n",
       "      <th>ch2</th>\n",
       "      <th>ch3</th>\n",
       "    </tr>\n",
       "  </thead>\n",
       "  <tbody>\n",
       "    <tr>\n",
       "      <td>count</td>\n",
       "      <td>459</td>\n",
       "      <td>459</td>\n",
       "      <td>459</td>\n",
       "      <td>5</td>\n",
       "    </tr>\n",
       "    <tr>\n",
       "      <td>unique</td>\n",
       "      <td>459</td>\n",
       "      <td>364</td>\n",
       "      <td>365</td>\n",
       "      <td>5</td>\n",
       "    </tr>\n",
       "    <tr>\n",
       "      <td>top</td>\n",
       "      <td>w i l m o t</td>\n",
       "      <td>乔斯林</td>\n",
       "      <td>乔斯琳</td>\n",
       "      <td>唐妮特</td>\n",
       "    </tr>\n",
       "    <tr>\n",
       "      <td>freq</td>\n",
       "      <td>1</td>\n",
       "      <td>10</td>\n",
       "      <td>10</td>\n",
       "      <td>1</td>\n",
       "    </tr>\n",
       "  </tbody>\n",
       "</table>\n",
       "</div>"
      ],
      "text/plain": [
       "                 en  ch1  ch2  ch3\n",
       "count           459  459  459    5\n",
       "unique          459  364  365    5\n",
       "top     w i l m o t  乔斯林  乔斯琳  唐妮特\n",
       "freq              1   10   10    1"
      ]
     },
     "execution_count": 21,
     "metadata": {},
     "output_type": "execute_result"
    }
   ],
   "source": [
    "multi_ans.describe()"
   ]
  },
  {
   "cell_type": "code",
   "execution_count": 22,
   "metadata": {},
   "outputs": [],
   "source": [
    "for i, dp in test.iterrows():\n",
    "    if dp['SRC'] in multi_ans['en']:\n",
    "        print(dp['SRC'])"
   ]
  }
 ],
 "metadata": {
  "kernelspec": {
   "display_name": "Python 3",
   "language": "python",
   "name": "python3"
  },
  "language_info": {
   "codemirror_mode": {
    "name": "ipython",
    "version": 3
   },
   "file_extension": ".py",
   "mimetype": "text/x-python",
   "name": "python",
   "nbconvert_exporter": "python",
   "pygments_lexer": "ipython3",
   "version": "3.7.4"
  }
 },
 "nbformat": 4,
 "nbformat_minor": 2
}
