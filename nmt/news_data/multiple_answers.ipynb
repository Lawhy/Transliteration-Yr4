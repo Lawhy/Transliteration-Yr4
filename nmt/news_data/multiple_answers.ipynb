{
 "cells": [
  {
   "cell_type": "code",
   "execution_count": 7,
   "metadata": {},
   "outputs": [],
   "source": [
    "import pandas as pd\n",
    "import json"
   ]
  },
  {
   "cell_type": "code",
   "execution_count": 5,
   "metadata": {},
   "outputs": [],
   "source": [
    "train = pd.read_csv('train.tsv', sep='\\t')\n",
    "val = pd.read_csv('valid.tsv', sep='\\t')\n",
    "tst = pd.read_csv('dev.tsv', sep='\\t')"
   ]
  },
  {
   "cell_type": "code",
   "execution_count": 25,
   "metadata": {},
   "outputs": [],
   "source": [
    "tst_dict = dict()"
   ]
  },
  {
   "cell_type": "code",
   "execution_count": 36,
   "metadata": {},
   "outputs": [
    {
     "data": {
      "text/plain": [
       "1000"
      ]
     },
     "execution_count": 36,
     "metadata": {},
     "output_type": "execute_result"
    }
   ],
   "source": [
    "len(tst_dict)"
   ]
  },
  {
   "cell_type": "code",
   "execution_count": 60,
   "metadata": {},
   "outputs": [],
   "source": [
    "import xml.etree.ElementTree as ET\n",
    "tree = ET.parse('dev.xml')\n",
    "root = tree.getroot()\n",
    "\n",
    "temp = ''\n",
    "for elem in tree.iter():\n",
    "#     if elem.tag == 'Name':\n",
    "#         temp = ''\n",
    "    if elem.tag == 'SourceName':\n",
    "        temp = elem.text\n",
    "        temp = temp.replace(' ', '<s>')\n",
    "    elif elem.tag == 'TargetName':\n",
    "        if tst_dict.get(temp):\n",
    "            tst_dict[temp].append(elem.text)\n",
    "            tst_dict[temp] = list(set(tst_dict[temp]))"
   ]
  },
  {
   "cell_type": "code",
   "execution_count": 68,
   "metadata": {},
   "outputs": [],
   "source": [
    "with open('dev.json', 'w+') as f:\n",
    "    json.dump(tst_dict, f)"
   ]
  }
 ],
 "metadata": {
  "kernelspec": {
   "display_name": "Python 3",
   "language": "python",
   "name": "python3"
  },
  "language_info": {
   "codemirror_mode": {
    "name": "ipython",
    "version": 3
   },
   "file_extension": ".py",
   "mimetype": "text/x-python",
   "name": "python",
   "nbconvert_exporter": "python",
   "pygments_lexer": "ipython3",
   "version": "3.7.4"
  }
 },
 "nbformat": 4,
 "nbformat_minor": 2
}
