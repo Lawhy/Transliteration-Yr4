{
 "cells": [
  {
   "cell_type": "code",
   "execution_count": 5,
   "metadata": {},
   "outputs": [],
   "source": [
    "import pandas as pd\n",
    "from pypinyin import pinyin, lazy_pinyin, Style"
   ]
  },
  {
   "cell_type": "code",
   "execution_count": 9,
   "metadata": {},
   "outputs": [],
   "source": [
    "train = pd.read_csv('./train.tsv', sep='\\t', index_col=0)\n",
    "dev = pd.read_csv('./valid.tsv', sep='\\t', index_col=0)\n",
    "test = pd.read_csv('./dev.tsv', sep='\\t', index_col=0)"
   ]
  },
  {
   "cell_type": "code",
   "execution_count": 25,
   "metadata": {},
   "outputs": [],
   "source": [
    "pinyin_str = []\n",
    "pinyin_char = []\n",
    "for w in dev['TRG']:\n",
    "    pinyin_str.append(' '.join(lazy_pinyin(w.replace(' ',''))))\n",
    "    pinyin_char.append(' '.join(''.join(lazy_pinyin(w.replace(' ','')))))"
   ]
  },
  {
   "cell_type": "code",
   "execution_count": 26,
   "metadata": {},
   "outputs": [],
   "source": [
    "dev['PINYIN_STR'] = pinyin_str\n",
    "dev['PINYIN_CHAR'] = pinyin_char"
   ]
  },
  {
   "cell_type": "code",
   "execution_count": 11,
   "metadata": {},
   "outputs": [],
   "source": [
    "train.to_csv(\"train.tsv\", sep='\\t', index=False)\n",
    "dev.to_csv(\"valid.tsv\", sep='\\t', index=False)\n",
    "test.to_csv(\"dev.tsv\", sep='\\t', index=False)"
   ]
  }
 ],
 "metadata": {
  "kernelspec": {
   "display_name": "Python 3",
   "language": "python",
   "name": "python3"
  },
  "language_info": {
   "codemirror_mode": {
    "name": "ipython",
    "version": 3
   },
   "file_extension": ".py",
   "mimetype": "text/x-python",
   "name": "python",
   "nbconvert_exporter": "python",
   "pygments_lexer": "ipython3",
   "version": "3.7.4"
  }
 },
 "nbformat": 4,
 "nbformat_minor": 2
}
