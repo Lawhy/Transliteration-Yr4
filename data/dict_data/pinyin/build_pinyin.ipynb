{
 "cells": [
  {
   "cell_type": "markdown",
   "metadata": {},
   "source": [
    "## Pinyin Transformation"
   ]
  },
  {
   "cell_type": "code",
   "execution_count": 23,
   "metadata": {},
   "outputs": [],
   "source": [
    "import pandas as pd\n",
    "import numpy as np\n",
    "from pypinyin import pinyin, lazy_pinyin, Style\n",
    "from random import randint"
   ]
  },
  {
   "cell_type": "code",
   "execution_count": 603,
   "metadata": {},
   "outputs": [
    {
     "data": {
      "text/plain": [
       "[['zhōng', 'zhòng'], ['xīn']]"
      ]
     },
     "execution_count": 603,
     "metadata": {},
     "output_type": "execute_result"
    }
   ],
   "source": [
    "pinyin('中心', heteronym=True)"
   ]
  },
  {
   "cell_type": "code",
   "execution_count": 604,
   "metadata": {},
   "outputs": [],
   "source": [
    "people = pd.read_excel('1_answers.xlsx', encoding='UTF-8-sig')"
   ]
  },
  {
   "cell_type": "code",
   "execution_count": 606,
   "metadata": {},
   "outputs": [
    {
     "data": {
      "text/html": [
       "<div>\n",
       "<style scoped>\n",
       "    .dataframe tbody tr th:only-of-type {\n",
       "        vertical-align: middle;\n",
       "    }\n",
       "\n",
       "    .dataframe tbody tr th {\n",
       "        vertical-align: top;\n",
       "    }\n",
       "\n",
       "    .dataframe thead th {\n",
       "        text-align: right;\n",
       "    }\n",
       "</style>\n",
       "<table border=\"1\" class=\"dataframe\">\n",
       "  <thead>\n",
       "    <tr style=\"text-align: right;\">\n",
       "      <th></th>\n",
       "      <th>en</th>\n",
       "      <th>ch</th>\n",
       "    </tr>\n",
       "  </thead>\n",
       "  <tbody>\n",
       "    <tr>\n",
       "      <th>count</th>\n",
       "      <td>58320</td>\n",
       "      <td>58320</td>\n",
       "    </tr>\n",
       "    <tr>\n",
       "      <th>unique</th>\n",
       "      <td>58320</td>\n",
       "      <td>42924</td>\n",
       "    </tr>\n",
       "    <tr>\n",
       "      <th>top</th>\n",
       "      <td>Krey</td>\n",
       "      <td>莫尔</td>\n",
       "    </tr>\n",
       "    <tr>\n",
       "      <th>freq</th>\n",
       "      <td>1</td>\n",
       "      <td>18</td>\n",
       "    </tr>\n",
       "  </tbody>\n",
       "</table>\n",
       "</div>"
      ],
      "text/plain": [
       "           en     ch\n",
       "count   58320  58320\n",
       "unique  58320  42924\n",
       "top      Krey     莫尔\n",
       "freq        1     18"
      ]
     },
     "execution_count": 606,
     "metadata": {},
     "output_type": "execute_result"
    }
   ],
   "source": [
    "people.describe()"
   ]
  },
  {
   "cell_type": "code",
   "execution_count": 607,
   "metadata": {},
   "outputs": [
    {
     "name": "stdout",
     "output_type": "stream",
     "text": [
      "lēi lè\n"
     ]
    }
   ],
   "source": [
    "lei1 = pinyin('勒', heteronym='True')[0][0]\n",
    "le4 = pinyin('勒', heteronym='True')[0][1]\n",
    "print(lei1, le4)"
   ]
  },
  {
   "cell_type": "code",
   "execution_count": 608,
   "metadata": {},
   "outputs": [
    {
     "name": "stdout",
     "output_type": "stream",
     "text": [
      "Arminel 阿米妮尔 [['ā'], ['mǐ'], ['nī'], ['ěr']]\n",
      "Brank 布兰克 [['bù'], ['lán'], ['kè']]\n",
      "Hutchings 哈钦斯 [['hā'], ['qīn'], ['sī']]\n",
      "Nightingale 奈廷格尔 [['nài'], ['tíng'], ['gé'], ['ěr']]\n",
      "Thapar 撒帕尔 [['sā'], ['pà'], ['ěr']]\n",
      "Graue 格劳厄 [['gé'], ['láo'], ['è']]\n",
      "Sigerith 西格里思 [['xī'], ['gé'], ['lǐ'], ['sī']]\n",
      "Schmidlapp 施米德拉普 [['shī'], ['mǐ'], ['dé'], ['lā'], ['pǔ']]\n",
      "Robie 罗比 [['luó'], ['bǐ']]\n",
      "Wahlquist 瓦尔奎斯特 [['wǎ'], ['ěr'], ['kuí'], ['sī'], ['tè']]\n",
      "Hinsley 欣斯利 [['xīn'], ['sī'], ['lì']]\n",
      "Fonda 方达 [['fāng'], ['dá']]\n",
      "Ritchford 里奇福德 [['lǐ'], ['qí'], ['fú'], ['dé']]\n",
      "Vezian 韦齐恩 [['wéi'], ['qí'], ['ēn']]\n",
      "Kunsemiller 孔斯米勒 [['kǒng'], ['sī'], ['mǐ'], ['lēi']]\n",
      "Edey 埃迪 [['āi'], ['dí']]\n",
      "Brilliant 布里连特 [['bù'], ['lǐ'], ['lián'], ['tè']]\n",
      "Eudaly 尤德利 [['yóu'], ['dé'], ['lì']]\n",
      "Griesemer 格里塞默 [['gé'], ['lǐ'], ['sāi'], ['mò']]\n",
      "Dearmore 迪尔莫尔 [['dí'], ['ěr'], ['mò'], ['ěr']]\n",
      "Rindskopf 林德斯科普夫 [['lín'], ['dé'], ['sī'], ['kē'], ['pǔ'], ['fū']]\n",
      "Starey 斯塔里 [['sī'], ['tǎ'], ['lǐ']]\n",
      "Boyse 博伊斯 [['bó'], ['yī'], ['sī']]\n",
      "Scobey 斯科比 [['sī'], ['kē'], ['bǐ']]\n",
      "Rosoff 罗索夫 [['luó'], ['suǒ'], ['fū']]\n",
      "Maud 莫德 [['mò'], ['dé']]\n",
      "Bernbaum 伯恩鲍姆 [['bó'], ['ēn'], ['bào'], ['mǔ']]\n",
      "Meerbaum 米尔鲍姆 [['mǐ'], ['ěr'], ['bào'], ['mǔ']]\n",
      "Slevin 斯莱文 [['sī'], ['lái'], ['wén']]\n",
      "Newcome 纽科姆 [['niǔ'], ['kē'], ['mǔ']]\n"
     ]
    }
   ],
   "source": [
    "rl = [randint(0, len(people)) for i in range(30)]\n",
    "for index, dp in people.iloc[rl].iterrows():\n",
    "    print(dp['en'], dp['ch'], pinyin(dp['ch'], errors='ignore'))"
   ]
  },
  {
   "cell_type": "code",
   "execution_count": 610,
   "metadata": {},
   "outputs": [],
   "source": [
    "for index, dp in people.iterrows():\n",
    "    assert len(pinyin(dp['ch'], errors='ignore')) == len(dp['ch'])\n",
    "    if not pinyin(dp['ch'], errors='ignore'):\n",
    "        print(dp['en'], dp['ch'], pinyin(dp['ch'], errors='ignore'))"
   ]
  },
  {
   "cell_type": "markdown",
   "metadata": {},
   "source": [
    "所有字都有拼音！"
   ]
  },
  {
   "cell_type": "code",
   "execution_count": 609,
   "metadata": {},
   "outputs": [],
   "source": [
    "pys = []\n",
    "for index, dp in people.iterrows():\n",
    "    py = ' '.join([p[0] for p in pinyin(dp['ch'], errors='ignore')])\n",
    "    if '勒' in dp['ch']:\n",
    "        py = py.replace(lei1, le4)\n",
    "    pys.append(py)\n",
    "        "
   ]
  },
  {
   "cell_type": "code",
   "execution_count": 611,
   "metadata": {},
   "outputs": [],
   "source": [
    "people['pinyin'] = pys"
   ]
  },
  {
   "cell_type": "code",
   "execution_count": 612,
   "metadata": {},
   "outputs": [
    {
     "data": {
      "text/html": [
       "<div>\n",
       "<style scoped>\n",
       "    .dataframe tbody tr th:only-of-type {\n",
       "        vertical-align: middle;\n",
       "    }\n",
       "\n",
       "    .dataframe tbody tr th {\n",
       "        vertical-align: top;\n",
       "    }\n",
       "\n",
       "    .dataframe thead th {\n",
       "        text-align: right;\n",
       "    }\n",
       "</style>\n",
       "<table border=\"1\" class=\"dataframe\">\n",
       "  <thead>\n",
       "    <tr style=\"text-align: right;\">\n",
       "      <th></th>\n",
       "      <th>en</th>\n",
       "      <th>ch</th>\n",
       "      <th>pinyin</th>\n",
       "    </tr>\n",
       "  </thead>\n",
       "  <tbody>\n",
       "    <tr>\n",
       "      <th>count</th>\n",
       "      <td>58320</td>\n",
       "      <td>58320</td>\n",
       "      <td>58320</td>\n",
       "    </tr>\n",
       "    <tr>\n",
       "      <th>unique</th>\n",
       "      <td>58320</td>\n",
       "      <td>42924</td>\n",
       "      <td>42052</td>\n",
       "    </tr>\n",
       "    <tr>\n",
       "      <th>top</th>\n",
       "      <td>Krey</td>\n",
       "      <td>莫尔</td>\n",
       "      <td>xī ěr</td>\n",
       "    </tr>\n",
       "    <tr>\n",
       "      <th>freq</th>\n",
       "      <td>1</td>\n",
       "      <td>18</td>\n",
       "      <td>25</td>\n",
       "    </tr>\n",
       "  </tbody>\n",
       "</table>\n",
       "</div>"
      ],
      "text/plain": [
       "           en     ch pinyin\n",
       "count   58320  58320  58320\n",
       "unique  58320  42924  42052\n",
       "top      Krey     莫尔  xī ěr\n",
       "freq        1     18     25"
      ]
     },
     "execution_count": 612,
     "metadata": {},
     "output_type": "execute_result"
    }
   ],
   "source": [
    "people.describe()"
   ]
  },
  {
   "cell_type": "markdown",
   "metadata": {},
   "source": [
    "寻找跟\"勒\"一样可能出问题的字, 起码要防止高频字出问题。"
   ]
  },
  {
   "cell_type": "code",
   "execution_count": 613,
   "metadata": {},
   "outputs": [],
   "source": [
    "ch_dict = dict()\n",
    "for index, dp in people.iterrows():\n",
    "    ch = dp['ch']\n",
    "    for c in ch:\n",
    "        ch_dict.setdefault(c, 0)\n",
    "        ch_dict[c] += 1"
   ]
  },
  {
   "cell_type": "code",
   "execution_count": 614,
   "metadata": {},
   "outputs": [
    {
     "data": {
      "text/plain": [
       "445"
      ]
     },
     "execution_count": 614,
     "metadata": {},
     "output_type": "execute_result"
    }
   ],
   "source": [
    "len(ch_dict.keys())"
   ]
  },
  {
   "cell_type": "code",
   "execution_count": 615,
   "metadata": {},
   "outputs": [],
   "source": [
    "ch_dict = sorted(ch_dict.items(), key=lambda item: item[1], reverse=True)"
   ]
  },
  {
   "cell_type": "code",
   "execution_count": 618,
   "metadata": {},
   "outputs": [],
   "source": [
    "ch_chars = [ch[0] for ch in ch_dict]\n",
    "\n",
    "inst_445 = pd.DataFrame(columns=['en', 'ch', 'char', 'pinyin'])\n",
    "def find_inst(pointer):\n",
    "    global inst_445\n",
    "    if len(inst_445) == 445:\n",
    "        return\n",
    "    \n",
    "    for index, dp in people.iterrows():\n",
    "        char = ch_chars[pointer]\n",
    "        if char in dp['ch']:\n",
    "            s = '[' + str(pointer) + ']'\n",
    "            print(s, char)\n",
    "            inst_445.loc[pointer] = [dp['en'], dp['ch'], char, dp['pinyin']]\n",
    "            break\n",
    "    pointer += 1\n",
    "    return find_inst(pointer)\n",
    "\n",
    "find_inst(0)"
   ]
  },
  {
   "cell_type": "code",
   "execution_count": 498,
   "metadata": {},
   "outputs": [],
   "source": [
    "inst_445 = pd.DataFrame(columns=['en', 'ch', 'char', 'pinyin'])\n",
    "inst_445.loc[0] = [1,2,3,4]"
   ]
  },
  {
   "cell_type": "code",
   "execution_count": 503,
   "metadata": {},
   "outputs": [],
   "source": [
    "inst_445.to_excel('instance_445.xlsx', index=False)"
   ]
  },
  {
   "cell_type": "code",
   "execution_count": 223,
   "metadata": {},
   "outputs": [],
   "source": [
    "# Selecting according to criterion\n",
    "# people.loc[people.index.map(lambda ind: '勒' in people.loc[ind]['ch'])] "
   ]
  },
  {
   "cell_type": "code",
   "execution_count": 619,
   "metadata": {},
   "outputs": [
    {
     "name": "stdout",
     "output_type": "stream",
     "text": [
      "sāi sài\n"
     ]
    }
   ],
   "source": [
    "sai4 = pinyin('塞', heteronym=True)[0][2]\n",
    "sai1 = pinyin('塞', heteronym=True)[0][0]\n",
    "print(sai1, sai4)\n",
    "\n",
    "for index, dp in people.iterrows():\n",
    "    py = dp['pinyin']\n",
    "    if '塞' in dp['ch']:\n",
    "        py = py.replace(sai1, sai4)\n",
    "    dp['pinyin'] = py"
   ]
  },
  {
   "cell_type": "code",
   "execution_count": 620,
   "metadata": {},
   "outputs": [
    {
     "name": "stdout",
     "output_type": "stream",
     "text": [
      "shén shí\n"
     ]
    }
   ],
   "source": [
    "shen2 = pinyin('什', heteronym=True)[0][0]\n",
    "shi2 = pinyin('什', heteronym=True)[0][1]\n",
    "print(shen2, shi2)\n",
    "\n",
    "for index, dp in people.iterrows():\n",
    "    py = dp['pinyin']\n",
    "    if '什' in dp['ch']:\n",
    "        py = py.replace(shen2, shi2)\n",
    "    dp['pinyin'] = py"
   ]
  },
  {
   "cell_type": "code",
   "execution_count": 621,
   "metadata": {},
   "outputs": [
    {
     "name": "stdout",
     "output_type": "stream",
     "text": [
      "yé yē\n"
     ]
    }
   ],
   "source": [
    "ye2 = pinyin('耶', heteronym=True)[0][0]\n",
    "ye1 = pinyin('耶', heteronym=True)[0][2]\n",
    "print(ye2, ye1)\n",
    "\n",
    "for index, dp in people.iterrows():\n",
    "    py = dp['pinyin']\n",
    "    if '耶' in dp['ch']:\n",
    "        py = py.replace(ye2, ye1)\n",
    "    dp['pinyin'] = py"
   ]
  },
  {
   "cell_type": "code",
   "execution_count": 622,
   "metadata": {},
   "outputs": [
    {
     "name": "stdout",
     "output_type": "stream",
     "text": [
      "xiào xiāo\n"
     ]
    }
   ],
   "source": [
    "xiao4 = pinyin('肖', heteronym=True)[0][0]\n",
    "xiao1 = pinyin('肖', heteronym=True)[0][1]\n",
    "print(xiao4, xiao1)\n",
    "\n",
    "for index, dp in people.iterrows():\n",
    "    py = dp['pinyin']\n",
    "    if '肖' in dp['ch']:\n",
    "        py = py.replace(xiao4, xiao1)\n",
    "    dp['pinyin'] = py"
   ]
  },
  {
   "cell_type": "code",
   "execution_count": 623,
   "metadata": {},
   "outputs": [
    {
     "name": "stdout",
     "output_type": "stream",
     "text": [
      "céng zēng\n"
     ]
    }
   ],
   "source": [
    "ceng2 = pinyin('曾', heteronym=True)[0][0]\n",
    "zeng1 = pinyin('曾', heteronym=True)[0][1]\n",
    "print(ceng2, zeng1)\n",
    "\n",
    "for index, dp in people.iterrows():\n",
    "    py = dp['pinyin']\n",
    "    if '曾' in dp['ch']:\n",
    "        py = py.replace(ceng2, zeng1)\n",
    "    dp['pinyin'] = py"
   ]
  },
  {
   "cell_type": "code",
   "execution_count": 624,
   "metadata": {},
   "outputs": [
    {
     "name": "stdout",
     "output_type": "stream",
     "text": [
      "fú fó\n"
     ]
    }
   ],
   "source": [
    "fu2 = pinyin('佛', heteronym=True)[0][0]\n",
    "fo1 = pinyin('佛', heteronym=True)[0][3]\n",
    "print(fu2, fo1)\n",
    "\n",
    "for index, dp in people.iterrows():\n",
    "    py = dp['pinyin']\n",
    "    if '佛' in dp['ch']:\n",
    "        py = py.replace(fu2, fo1)\n",
    "    dp['pinyin'] = py"
   ]
  },
  {
   "cell_type": "code",
   "execution_count": 625,
   "metadata": {},
   "outputs": [
    {
     "name": "stdout",
     "output_type": "stream",
     "text": [
      "xìng xīng\n"
     ]
    }
   ],
   "source": [
    "xing4 = pinyin('兴', heteronym=True)[0][0]\n",
    "xing1 = pinyin('兴', heteronym=True)[0][1]\n",
    "print(xing4, xing1)\n",
    "\n",
    "for index, dp in people.iterrows():\n",
    "    py = dp['pinyin']\n",
    "    if '兴' in dp['ch']:\n",
    "        py = py.replace(xing4, xing1)\n",
    "    dp['pinyin'] = py"
   ]
  },
  {
   "cell_type": "code",
   "execution_count": 634,
   "metadata": {},
   "outputs": [
    {
     "data": {
      "text/html": [
       "<div>\n",
       "<style scoped>\n",
       "    .dataframe tbody tr th:only-of-type {\n",
       "        vertical-align: middle;\n",
       "    }\n",
       "\n",
       "    .dataframe tbody tr th {\n",
       "        vertical-align: top;\n",
       "    }\n",
       "\n",
       "    .dataframe thead th {\n",
       "        text-align: right;\n",
       "    }\n",
       "</style>\n",
       "<table border=\"1\" class=\"dataframe\">\n",
       "  <thead>\n",
       "    <tr style=\"text-align: right;\">\n",
       "      <th></th>\n",
       "      <th>en</th>\n",
       "      <th>ch</th>\n",
       "      <th>pinyin</th>\n",
       "    </tr>\n",
       "  </thead>\n",
       "  <tbody>\n",
       "    <tr>\n",
       "      <th>27292</th>\n",
       "      <td>Homburg</td>\n",
       "      <td>杭柏格</td>\n",
       "      <td>háng bǎi gé</td>\n",
       "    </tr>\n",
       "  </tbody>\n",
       "</table>\n",
       "</div>"
      ],
      "text/plain": [
       "            en   ch       pinyin\n",
       "27292  Homburg  杭柏格  háng bǎi gé"
      ]
     },
     "execution_count": 634,
     "metadata": {},
     "output_type": "execute_result"
    }
   ],
   "source": [
    "people.loc[people.index.map(lambda ind: '柏' in people.loc[ind]['ch'])]"
   ]
  },
  {
   "cell_type": "code",
   "execution_count": 633,
   "metadata": {},
   "outputs": [],
   "source": [
    "people.iloc[21885]['pinyin'] = people.iloc[21885]['pinyin'].replace(pinyin('藏', heteronym=True)[0][0], pinyin('藏', heteronym=True)[0][1])"
   ]
  },
  {
   "cell_type": "code",
   "execution_count": 635,
   "metadata": {},
   "outputs": [],
   "source": [
    "people.iloc[27292]['pinyin'] = people.iloc[27292]['pinyin'].replace(pinyin('柏', heteronym=True)[0][0], pinyin('柏', heteronym=True)[0][1])"
   ]
  },
  {
   "cell_type": "code",
   "execution_count": 546,
   "metadata": {},
   "outputs": [
    {
     "data": {
      "text/plain": [
       "[['wù']]"
      ]
     },
     "execution_count": 546,
     "metadata": {},
     "output_type": "execute_result"
    }
   ],
   "source": [
    "pinyin('晤', heteronym=True)"
   ]
  },
  {
   "cell_type": "code",
   "execution_count": 549,
   "metadata": {},
   "outputs": [
    {
     "data": {
      "text/plain": [
       "['bao', 'luo', 'shen']"
      ]
     },
     "execution_count": 549,
     "metadata": {},
     "output_type": "execute_result"
    }
   ],
   "source": [
    "lazy_pinyin('保罗什')"
   ]
  },
  {
   "cell_type": "code",
   "execution_count": 637,
   "metadata": {},
   "outputs": [],
   "source": [
    "pys = []\n",
    "for index, dp in people.iterrows():\n",
    "    assert len(lazy_pinyin(dp['ch'])) == len(dp['ch'])\n",
    "    py = ' '.join(lazy_pinyin(dp['ch'], errors='ignore'))\n",
    "    pys.append(py)"
   ]
  },
  {
   "cell_type": "code",
   "execution_count": 638,
   "metadata": {},
   "outputs": [],
   "source": [
    "people['pinyin_no_tone'] = pys"
   ]
  },
  {
   "cell_type": "markdown",
   "metadata": {},
   "source": [
    "errs = ['勒', '塞', '什', '耶', '曾', '佛', '兴', '藏', '柏', '肖']"
   ]
  },
  {
   "cell_type": "code",
   "execution_count": 652,
   "metadata": {},
   "outputs": [],
   "source": [
    "for index, dp in people.iterrows():\n",
    "    py = dp['pinyin_no_tone']\n",
    "    if '勒' in dp['ch']:\n",
    "        py = py.replace('lei', 'le')\n",
    "    dp['pinyin_no_tone'] = py"
   ]
  },
  {
   "cell_type": "code",
   "execution_count": 655,
   "metadata": {},
   "outputs": [
    {
     "data": {
      "text/html": [
       "<div>\n",
       "<style scoped>\n",
       "    .dataframe tbody tr th:only-of-type {\n",
       "        vertical-align: middle;\n",
       "    }\n",
       "\n",
       "    .dataframe tbody tr th {\n",
       "        vertical-align: top;\n",
       "    }\n",
       "\n",
       "    .dataframe thead th {\n",
       "        text-align: right;\n",
       "    }\n",
       "</style>\n",
       "<table border=\"1\" class=\"dataframe\">\n",
       "  <thead>\n",
       "    <tr style=\"text-align: right;\">\n",
       "      <th></th>\n",
       "      <th>en</th>\n",
       "      <th>ch</th>\n",
       "      <th>pinyin</th>\n",
       "      <th>pinyin_no_tone</th>\n",
       "    </tr>\n",
       "  </thead>\n",
       "  <tbody>\n",
       "    <tr>\n",
       "      <th>193</th>\n",
       "      <td>Achtemeier</td>\n",
       "      <td>阿赫特迈耶</td>\n",
       "      <td>ā hè tè mài yē</td>\n",
       "      <td>a he te mai ye</td>\n",
       "    </tr>\n",
       "    <tr>\n",
       "      <th>510</th>\n",
       "      <td>Ahier</td>\n",
       "      <td>阿耶</td>\n",
       "      <td>ā yē</td>\n",
       "      <td>a ye</td>\n",
       "    </tr>\n",
       "    <tr>\n",
       "      <th>988</th>\n",
       "      <td>Allgaier</td>\n",
       "      <td>奥尔盖耶</td>\n",
       "      <td>ào ěr gài yē</td>\n",
       "      <td>ao er gai ye</td>\n",
       "    </tr>\n",
       "    <tr>\n",
       "      <th>989</th>\n",
       "      <td>Allgeier</td>\n",
       "      <td>奥尔盖耶</td>\n",
       "      <td>ào ěr gài yē</td>\n",
       "      <td>ao er gai ye</td>\n",
       "    </tr>\n",
       "    <tr>\n",
       "      <th>1135</th>\n",
       "      <td>Altemeier</td>\n",
       "      <td>阿尔特迈耶</td>\n",
       "      <td>ā ěr tè mài yē</td>\n",
       "      <td>a er te mai ye</td>\n",
       "    </tr>\n",
       "    <tr>\n",
       "      <th>1159</th>\n",
       "      <td>Altmeyer</td>\n",
       "      <td>奥特迈耶</td>\n",
       "      <td>ào tè mài yē</td>\n",
       "      <td>ao te mai ye</td>\n",
       "    </tr>\n",
       "    <tr>\n",
       "      <th>1549</th>\n",
       "      <td>Anglemyer</td>\n",
       "      <td>安格尔迈耶</td>\n",
       "      <td>ān gé ěr mài yē</td>\n",
       "      <td>an ge er mai ye</td>\n",
       "    </tr>\n",
       "    <tr>\n",
       "      <th>2189</th>\n",
       "      <td>Aschemeyer</td>\n",
       "      <td>阿谢迈耶</td>\n",
       "      <td>ā xiè mài yē</td>\n",
       "      <td>a xie mai ye</td>\n",
       "    </tr>\n",
       "    <tr>\n",
       "      <th>2382</th>\n",
       "      <td>Atiyah</td>\n",
       "      <td>阿提耶</td>\n",
       "      <td>ā tí yē</td>\n",
       "      <td>a ti ye</td>\n",
       "    </tr>\n",
       "    <tr>\n",
       "      <th>2383</th>\n",
       "      <td>Atiyeh</td>\n",
       "      <td>阿提耶</td>\n",
       "      <td>ā tí yē</td>\n",
       "      <td>a ti ye</td>\n",
       "    </tr>\n",
       "    <tr>\n",
       "      <th>2465</th>\n",
       "      <td>Audigier</td>\n",
       "      <td>奥迪吉耶</td>\n",
       "      <td>ào dí jí yē</td>\n",
       "      <td>ao di ji ye</td>\n",
       "    </tr>\n",
       "    <tr>\n",
       "      <th>2802</th>\n",
       "      <td>Bachmeyer</td>\n",
       "      <td>巴克迈耶</td>\n",
       "      <td>bā kè mài yē</td>\n",
       "      <td>ba ke mai ye</td>\n",
       "    </tr>\n",
       "    <tr>\n",
       "      <th>2952</th>\n",
       "      <td>Bajek</td>\n",
       "      <td>巴耶克</td>\n",
       "      <td>bā yē kè</td>\n",
       "      <td>ba ye ke</td>\n",
       "    </tr>\n",
       "    <tr>\n",
       "      <th>3223</th>\n",
       "      <td>Bannier</td>\n",
       "      <td>巴尼耶</td>\n",
       "      <td>bā ní yē</td>\n",
       "      <td>ba ni ye</td>\n",
       "    </tr>\n",
       "    <tr>\n",
       "      <th>3423</th>\n",
       "      <td>Barnadier</td>\n",
       "      <td>巴纳迪耶</td>\n",
       "      <td>bā nà dí yē</td>\n",
       "      <td>ba na di ye</td>\n",
       "    </tr>\n",
       "    <tr>\n",
       "      <th>3542</th>\n",
       "      <td>Bartelsmeyer</td>\n",
       "      <td>巴特尔斯迈耶</td>\n",
       "      <td>bā tè ěr sī mài yē</td>\n",
       "      <td>ba te er si mai ye</td>\n",
       "    </tr>\n",
       "    <tr>\n",
       "      <th>3545</th>\n",
       "      <td>Bartemeier</td>\n",
       "      <td>巴特迈耶</td>\n",
       "      <td>bā tè mài yē</td>\n",
       "      <td>ba te mai ye</td>\n",
       "    </tr>\n",
       "    <tr>\n",
       "      <th>4144</th>\n",
       "      <td>Bedoyere</td>\n",
       "      <td>贝杜瓦耶尔</td>\n",
       "      <td>bèi dù wǎ yē ěr</td>\n",
       "      <td>bei du wa ye er</td>\n",
       "    </tr>\n",
       "    <tr>\n",
       "      <th>4191</th>\n",
       "      <td>Beesemyer</td>\n",
       "      <td>比斯迈耶</td>\n",
       "      <td>bǐ sī mài yē</td>\n",
       "      <td>bi si mai ye</td>\n",
       "    </tr>\n",
       "    <tr>\n",
       "      <th>4268</th>\n",
       "      <td>Beier</td>\n",
       "      <td>贝耶尔</td>\n",
       "      <td>bèi yē ěr</td>\n",
       "      <td>bei ye er</td>\n",
       "    </tr>\n",
       "    <tr>\n",
       "      <th>4330</th>\n",
       "      <td>Belchier</td>\n",
       "      <td>贝尔希耶</td>\n",
       "      <td>bèi ěr xī yē</td>\n",
       "      <td>bei er xi ye</td>\n",
       "    </tr>\n",
       "    <tr>\n",
       "      <th>4673</th>\n",
       "      <td>Berckemeyer</td>\n",
       "      <td>伯克迈耶</td>\n",
       "      <td>bó kè mài yē</td>\n",
       "      <td>bo ke mai ye</td>\n",
       "    </tr>\n",
       "    <tr>\n",
       "      <th>4774</th>\n",
       "      <td>Berkemeyer</td>\n",
       "      <td>伯克迈耶</td>\n",
       "      <td>bó kè mài yē</td>\n",
       "      <td>bo ke mai ye</td>\n",
       "    </tr>\n",
       "    <tr>\n",
       "      <th>4919</th>\n",
       "      <td>Bertaille</td>\n",
       "      <td>贝尔塔耶</td>\n",
       "      <td>bèi ěr tǎ yē</td>\n",
       "      <td>bei er ta ye</td>\n",
       "    </tr>\n",
       "    <tr>\n",
       "      <th>5117</th>\n",
       "      <td>Beyette</td>\n",
       "      <td>贝耶特</td>\n",
       "      <td>bèi yē tè</td>\n",
       "      <td>bei ye te</td>\n",
       "    </tr>\n",
       "    <tr>\n",
       "      <th>5213</th>\n",
       "      <td>Biebuyck</td>\n",
       "      <td>比耶比克</td>\n",
       "      <td>bǐ yē bǐ kè</td>\n",
       "      <td>bi ye bi ke</td>\n",
       "    </tr>\n",
       "    <tr>\n",
       "      <th>5216</th>\n",
       "      <td>Biegelmeier</td>\n",
       "      <td>比格尔迈耶</td>\n",
       "      <td>bǐ gé ěr mài yē</td>\n",
       "      <td>bi ge er mai ye</td>\n",
       "    </tr>\n",
       "    <tr>\n",
       "      <th>5254</th>\n",
       "      <td>Biesemeier</td>\n",
       "      <td>比塞迈耶</td>\n",
       "      <td>bǐ sài mài yē</td>\n",
       "      <td>bi sai mai ye</td>\n",
       "    </tr>\n",
       "    <tr>\n",
       "      <th>5342</th>\n",
       "      <td>Billmeir</td>\n",
       "      <td>比尔迈耶</td>\n",
       "      <td>bǐ ěr mài yē</td>\n",
       "      <td>bi er mai ye</td>\n",
       "    </tr>\n",
       "    <tr>\n",
       "      <th>5343</th>\n",
       "      <td>Billmeyer</td>\n",
       "      <td>比尔迈耶</td>\n",
       "      <td>bǐ ěr mài yē</td>\n",
       "      <td>bi er mai ye</td>\n",
       "    </tr>\n",
       "    <tr>\n",
       "      <th>...</th>\n",
       "      <td>...</td>\n",
       "      <td>...</td>\n",
       "      <td>...</td>\n",
       "      <td>...</td>\n",
       "    </tr>\n",
       "    <tr>\n",
       "      <th>57642</th>\n",
       "      <td>Yepsen</td>\n",
       "      <td>耶普森</td>\n",
       "      <td>yē pǔ sēn</td>\n",
       "      <td>ye pu sen</td>\n",
       "    </tr>\n",
       "    <tr>\n",
       "      <th>57643</th>\n",
       "      <td>Yer</td>\n",
       "      <td>耶尔</td>\n",
       "      <td>yē ěr</td>\n",
       "      <td>ye er</td>\n",
       "    </tr>\n",
       "    <tr>\n",
       "      <th>57644</th>\n",
       "      <td>Yerazunis</td>\n",
       "      <td>耶拉祖尼斯</td>\n",
       "      <td>yē lā zǔ ní sī</td>\n",
       "      <td>ye la zu ni si</td>\n",
       "    </tr>\n",
       "    <tr>\n",
       "      <th>57645</th>\n",
       "      <td>Yerburgh</td>\n",
       "      <td>耶伯勒</td>\n",
       "      <td>yē bó lè</td>\n",
       "      <td>ye bo le</td>\n",
       "    </tr>\n",
       "    <tr>\n",
       "      <th>57646</th>\n",
       "      <td>Yerbury</td>\n",
       "      <td>耶伯里</td>\n",
       "      <td>yē bó lǐ</td>\n",
       "      <td>ye bo li</td>\n",
       "    </tr>\n",
       "    <tr>\n",
       "      <th>57647</th>\n",
       "      <td>Yerby</td>\n",
       "      <td>耶比</td>\n",
       "      <td>yē bǐ</td>\n",
       "      <td>ye bi</td>\n",
       "    </tr>\n",
       "    <tr>\n",
       "      <th>57648</th>\n",
       "      <td>Yerger</td>\n",
       "      <td>耶杰</td>\n",
       "      <td>yē jié</td>\n",
       "      <td>ye jie</td>\n",
       "    </tr>\n",
       "    <tr>\n",
       "      <th>57649</th>\n",
       "      <td>Yergin</td>\n",
       "      <td>耶金</td>\n",
       "      <td>yē jīn</td>\n",
       "      <td>ye jin</td>\n",
       "    </tr>\n",
       "    <tr>\n",
       "      <th>57650</th>\n",
       "      <td>Yerkes</td>\n",
       "      <td>耶基斯</td>\n",
       "      <td>yē jī sī</td>\n",
       "      <td>ye ji si</td>\n",
       "    </tr>\n",
       "    <tr>\n",
       "      <th>57651</th>\n",
       "      <td>Yerkey</td>\n",
       "      <td>耶基</td>\n",
       "      <td>yē jī</td>\n",
       "      <td>ye ji</td>\n",
       "    </tr>\n",
       "    <tr>\n",
       "      <th>57652</th>\n",
       "      <td>Yerks</td>\n",
       "      <td>耶克斯</td>\n",
       "      <td>yē kè sī</td>\n",
       "      <td>ye ke si</td>\n",
       "    </tr>\n",
       "    <tr>\n",
       "      <th>57653</th>\n",
       "      <td>Yerushalmi</td>\n",
       "      <td>耶鲁沙尔米</td>\n",
       "      <td>yē lǔ shā ěr mǐ</td>\n",
       "      <td>ye lu sha er mi</td>\n",
       "    </tr>\n",
       "    <tr>\n",
       "      <th>57654</th>\n",
       "      <td>Yerza</td>\n",
       "      <td>耶扎</td>\n",
       "      <td>yē zhā</td>\n",
       "      <td>ye zha</td>\n",
       "    </tr>\n",
       "    <tr>\n",
       "      <th>57655</th>\n",
       "      <td>Yesalis</td>\n",
       "      <td>耶萨利斯</td>\n",
       "      <td>yē sà lì sī</td>\n",
       "      <td>ye sa li si</td>\n",
       "    </tr>\n",
       "    <tr>\n",
       "      <th>57656</th>\n",
       "      <td>Yesenia</td>\n",
       "      <td>耶塞妮娅</td>\n",
       "      <td>yē sài nī yà</td>\n",
       "      <td>ye sai ni ya</td>\n",
       "    </tr>\n",
       "    <tr>\n",
       "      <th>57657</th>\n",
       "      <td>Yesley</td>\n",
       "      <td>耶斯利</td>\n",
       "      <td>yē sī lì</td>\n",
       "      <td>ye si li</td>\n",
       "    </tr>\n",
       "    <tr>\n",
       "      <th>57658</th>\n",
       "      <td>Yessenia</td>\n",
       "      <td>耶塞妮娅</td>\n",
       "      <td>yē sài nī yà</td>\n",
       "      <td>ye sai ni ya</td>\n",
       "    </tr>\n",
       "    <tr>\n",
       "      <th>57659</th>\n",
       "      <td>Yester</td>\n",
       "      <td>耶斯特</td>\n",
       "      <td>yē sī tè</td>\n",
       "      <td>ye si te</td>\n",
       "    </tr>\n",
       "    <tr>\n",
       "      <th>57660</th>\n",
       "      <td>Yestin</td>\n",
       "      <td>耶斯廷</td>\n",
       "      <td>yē sī tíng</td>\n",
       "      <td>ye si ting</td>\n",
       "    </tr>\n",
       "    <tr>\n",
       "      <th>57661</th>\n",
       "      <td>Yeston</td>\n",
       "      <td>耶斯顿</td>\n",
       "      <td>yē sī dùn</td>\n",
       "      <td>ye si dun</td>\n",
       "    </tr>\n",
       "    <tr>\n",
       "      <th>57662</th>\n",
       "      <td>Yetka</td>\n",
       "      <td>耶特卡</td>\n",
       "      <td>yē tè kǎ</td>\n",
       "      <td>ye te ka</td>\n",
       "    </tr>\n",
       "    <tr>\n",
       "      <th>57663</th>\n",
       "      <td>Yetnikoff</td>\n",
       "      <td>耶特尼科夫</td>\n",
       "      <td>yē tè ní kē fū</td>\n",
       "      <td>ye te ni ke fu</td>\n",
       "    </tr>\n",
       "    <tr>\n",
       "      <th>57664</th>\n",
       "      <td>Yette</td>\n",
       "      <td>耶特</td>\n",
       "      <td>yē tè</td>\n",
       "      <td>ye te</td>\n",
       "    </tr>\n",
       "    <tr>\n",
       "      <th>57665</th>\n",
       "      <td>Yetts</td>\n",
       "      <td>耶茨</td>\n",
       "      <td>yē cí</td>\n",
       "      <td>ye ci</td>\n",
       "    </tr>\n",
       "    <tr>\n",
       "      <th>57669</th>\n",
       "      <td>Yevick</td>\n",
       "      <td>耶维克</td>\n",
       "      <td>yē wéi kè</td>\n",
       "      <td>ye wei ke</td>\n",
       "    </tr>\n",
       "    <tr>\n",
       "      <th>57893</th>\n",
       "      <td>Zampiello</td>\n",
       "      <td>赞皮耶洛</td>\n",
       "      <td>zàn pí yē luò</td>\n",
       "      <td>zan pi ye luo</td>\n",
       "    </tr>\n",
       "    <tr>\n",
       "      <th>57943</th>\n",
       "      <td>Zaumeyer</td>\n",
       "      <td>佐迈耶</td>\n",
       "      <td>zuǒ mài yē</td>\n",
       "      <td>zuo mai ye</td>\n",
       "    </tr>\n",
       "    <tr>\n",
       "      <th>57949</th>\n",
       "      <td>Zayek</td>\n",
       "      <td>扎耶克</td>\n",
       "      <td>zhā yē kè</td>\n",
       "      <td>zha ye ke</td>\n",
       "    </tr>\n",
       "    <tr>\n",
       "      <th>58063</th>\n",
       "      <td>Zentmyer</td>\n",
       "      <td>曾特迈耶</td>\n",
       "      <td>zēng tè mài yē</td>\n",
       "      <td>zeng te mai ye</td>\n",
       "    </tr>\n",
       "    <tr>\n",
       "      <th>58090</th>\n",
       "      <td>Zettlemoyer</td>\n",
       "      <td>泽特尔莫耶</td>\n",
       "      <td>zé tè ěr mò yē</td>\n",
       "      <td>ze te er mo ye</td>\n",
       "    </tr>\n",
       "  </tbody>\n",
       "</table>\n",
       "<p>360 rows × 4 columns</p>\n",
       "</div>"
      ],
      "text/plain": [
       "                 en      ch              pinyin      pinyin_no_tone\n",
       "193      Achtemeier   阿赫特迈耶      ā hè tè mài yē      a he te mai ye\n",
       "510           Ahier      阿耶                ā yē                a ye\n",
       "988        Allgaier    奥尔盖耶        ào ěr gài yē        ao er gai ye\n",
       "989        Allgeier    奥尔盖耶        ào ěr gài yē        ao er gai ye\n",
       "1135      Altemeier   阿尔特迈耶      ā ěr tè mài yē      a er te mai ye\n",
       "1159       Altmeyer    奥特迈耶        ào tè mài yē        ao te mai ye\n",
       "1549      Anglemyer   安格尔迈耶     ān gé ěr mài yē     an ge er mai ye\n",
       "2189     Aschemeyer    阿谢迈耶        ā xiè mài yē        a xie mai ye\n",
       "2382         Atiyah     阿提耶             ā tí yē             a ti ye\n",
       "2383         Atiyeh     阿提耶             ā tí yē             a ti ye\n",
       "2465       Audigier    奥迪吉耶         ào dí jí yē         ao di ji ye\n",
       "2802      Bachmeyer    巴克迈耶        bā kè mài yē        ba ke mai ye\n",
       "2952          Bajek     巴耶克            bā yē kè            ba ye ke\n",
       "3223        Bannier     巴尼耶            bā ní yē            ba ni ye\n",
       "3423      Barnadier    巴纳迪耶         bā nà dí yē         ba na di ye\n",
       "3542   Bartelsmeyer  巴特尔斯迈耶  bā tè ěr sī mài yē  ba te er si mai ye\n",
       "3545     Bartemeier    巴特迈耶        bā tè mài yē        ba te mai ye\n",
       "4144       Bedoyere   贝杜瓦耶尔     bèi dù wǎ yē ěr     bei du wa ye er\n",
       "4191      Beesemyer    比斯迈耶        bǐ sī mài yē        bi si mai ye\n",
       "4268          Beier     贝耶尔           bèi yē ěr           bei ye er\n",
       "4330       Belchier    贝尔希耶        bèi ěr xī yē        bei er xi ye\n",
       "4673    Berckemeyer    伯克迈耶        bó kè mài yē        bo ke mai ye\n",
       "4774     Berkemeyer    伯克迈耶        bó kè mài yē        bo ke mai ye\n",
       "4919      Bertaille    贝尔塔耶        bèi ěr tǎ yē        bei er ta ye\n",
       "5117        Beyette     贝耶特           bèi yē tè           bei ye te\n",
       "5213       Biebuyck    比耶比克         bǐ yē bǐ kè         bi ye bi ke\n",
       "5216    Biegelmeier   比格尔迈耶     bǐ gé ěr mài yē     bi ge er mai ye\n",
       "5254     Biesemeier    比塞迈耶       bǐ sài mài yē       bi sai mai ye\n",
       "5342       Billmeir    比尔迈耶        bǐ ěr mài yē        bi er mai ye\n",
       "5343      Billmeyer    比尔迈耶        bǐ ěr mài yē        bi er mai ye\n",
       "...             ...     ...                 ...                 ...\n",
       "57642        Yepsen     耶普森           yē pǔ sēn           ye pu sen\n",
       "57643           Yer      耶尔               yē ěr               ye er\n",
       "57644     Yerazunis   耶拉祖尼斯      yē lā zǔ ní sī      ye la zu ni si\n",
       "57645      Yerburgh     耶伯勒            yē bó lè            ye bo le\n",
       "57646       Yerbury     耶伯里            yē bó lǐ            ye bo li\n",
       "57647         Yerby      耶比               yē bǐ               ye bi\n",
       "57648        Yerger      耶杰              yē jié              ye jie\n",
       "57649        Yergin      耶金              yē jīn              ye jin\n",
       "57650        Yerkes     耶基斯            yē jī sī            ye ji si\n",
       "57651        Yerkey      耶基               yē jī               ye ji\n",
       "57652         Yerks     耶克斯            yē kè sī            ye ke si\n",
       "57653    Yerushalmi   耶鲁沙尔米     yē lǔ shā ěr mǐ     ye lu sha er mi\n",
       "57654         Yerza      耶扎              yē zhā              ye zha\n",
       "57655       Yesalis    耶萨利斯         yē sà lì sī         ye sa li si\n",
       "57656       Yesenia    耶塞妮娅        yē sài nī yà        ye sai ni ya\n",
       "57657        Yesley     耶斯利            yē sī lì            ye si li\n",
       "57658      Yessenia    耶塞妮娅        yē sài nī yà        ye sai ni ya\n",
       "57659        Yester     耶斯特            yē sī tè            ye si te\n",
       "57660        Yestin     耶斯廷          yē sī tíng          ye si ting\n",
       "57661        Yeston     耶斯顿           yē sī dùn           ye si dun\n",
       "57662         Yetka     耶特卡            yē tè kǎ            ye te ka\n",
       "57663     Yetnikoff   耶特尼科夫      yē tè ní kē fū      ye te ni ke fu\n",
       "57664         Yette      耶特               yē tè               ye te\n",
       "57665         Yetts      耶茨               yē cí               ye ci\n",
       "57669        Yevick     耶维克           yē wéi kè           ye wei ke\n",
       "57893     Zampiello    赞皮耶洛       zàn pí yē luò       zan pi ye luo\n",
       "57943      Zaumeyer     佐迈耶          zuǒ mài yē          zuo mai ye\n",
       "57949         Zayek     扎耶克           zhā yē kè           zha ye ke\n",
       "58063      Zentmyer    曾特迈耶      zēng tè mài yē      zeng te mai ye\n",
       "58090   Zettlemoyer   泽特尔莫耶      zé tè ěr mò yē      ze te er mo ye\n",
       "\n",
       "[360 rows x 4 columns]"
      ]
     },
     "execution_count": 655,
     "metadata": {},
     "output_type": "execute_result"
    }
   ],
   "source": [
    "people.loc[people.index.map(lambda ind: '耶' in people.loc[ind]['ch'])]"
   ]
  },
  {
   "cell_type": "code",
   "execution_count": 658,
   "metadata": {},
   "outputs": [],
   "source": [
    "people.describe().to_excel('summary.xlsx')"
   ]
  },
  {
   "cell_type": "code",
   "execution_count": 659,
   "metadata": {},
   "outputs": [],
   "source": [
    "people.to_excel('people.xlsx', encoding='UTF-8', index=False)"
   ]
  }
 ],
 "metadata": {
  "kernelspec": {
   "display_name": "Python 3",
   "language": "python",
   "name": "python3"
  },
  "language_info": {
   "codemirror_mode": {
    "name": "ipython",
    "version": 3
   },
   "file_extension": ".py",
   "mimetype": "text/x-python",
   "name": "python",
   "nbconvert_exporter": "python",
   "pygments_lexer": "ipython3",
   "version": "3.7.3"
  }
 },
 "nbformat": 4,
 "nbformat_minor": 2
}
