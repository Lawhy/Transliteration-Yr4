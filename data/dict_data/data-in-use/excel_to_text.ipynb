{
 "cells": [
  {
   "cell_type": "code",
   "execution_count": 1,
   "metadata": {},
   "outputs": [],
   "source": [
    "import pandas as pd"
   ]
  },
  {
   "cell_type": "code",
   "execution_count": 4,
   "metadata": {},
   "outputs": [],
   "source": [
    "tra = pd.read_excel('./train_dev/tra.xlsx', encoding='UTF-8')"
   ]
  },
  {
   "cell_type": "code",
   "execution_count": 5,
   "metadata": {},
   "outputs": [],
   "source": [
    "dev = pd.read_excel('./train_dev/dev.xlsx', encoding='UTF-8')"
   ]
  },
  {
   "cell_type": "code",
   "execution_count": 7,
   "metadata": {},
   "outputs": [],
   "source": [
    "tst = pd.read_excel('./test/tst.xlsx', encoding='UTF-8')"
   ]
  },
  {
   "cell_type": "code",
   "execution_count": 10,
   "metadata": {},
   "outputs": [
    {
     "data": {
      "text/html": [
       "<div>\n",
       "<style scoped>\n",
       "    .dataframe tbody tr th:only-of-type {\n",
       "        vertical-align: middle;\n",
       "    }\n",
       "\n",
       "    .dataframe tbody tr th {\n",
       "        vertical-align: top;\n",
       "    }\n",
       "\n",
       "    .dataframe thead th {\n",
       "        text-align: right;\n",
       "    }\n",
       "</style>\n",
       "<table border=\"1\" class=\"dataframe\">\n",
       "  <thead>\n",
       "    <tr style=\"text-align: right;\">\n",
       "      <th></th>\n",
       "      <th>en</th>\n",
       "      <th>ch</th>\n",
       "      <th>pinyin</th>\n",
       "      <th>pinyin_no_tone</th>\n",
       "    </tr>\n",
       "  </thead>\n",
       "  <tbody>\n",
       "    <tr>\n",
       "      <th>0</th>\n",
       "      <td>kartman</td>\n",
       "      <td>卡特曼</td>\n",
       "      <td>kǎ tè màn</td>\n",
       "      <td>ka te man</td>\n",
       "    </tr>\n",
       "    <tr>\n",
       "      <th>1</th>\n",
       "      <td>persse</td>\n",
       "      <td>珀斯</td>\n",
       "      <td>pò sī</td>\n",
       "      <td>po si</td>\n",
       "    </tr>\n",
       "    <tr>\n",
       "      <th>2</th>\n",
       "      <td>macraith</td>\n",
       "      <td>麦克雷思</td>\n",
       "      <td>mài kè léi sī</td>\n",
       "      <td>mai ke lei si</td>\n",
       "    </tr>\n",
       "    <tr>\n",
       "      <th>3</th>\n",
       "      <td>hudak</td>\n",
       "      <td>赫达克</td>\n",
       "      <td>hè dá kè</td>\n",
       "      <td>he da ke</td>\n",
       "    </tr>\n",
       "    <tr>\n",
       "      <th>4</th>\n",
       "      <td>kraus</td>\n",
       "      <td>克劳斯</td>\n",
       "      <td>kè láo sī</td>\n",
       "      <td>ke lao si</td>\n",
       "    </tr>\n",
       "  </tbody>\n",
       "</table>\n",
       "</div>"
      ],
      "text/plain": [
       "         en    ch         pinyin pinyin_no_tone\n",
       "0   kartman   卡特曼      kǎ tè màn      ka te man\n",
       "1    persse    珀斯          pò sī          po si\n",
       "2  macraith  麦克雷思  mài kè léi sī  mai ke lei si\n",
       "3     hudak   赫达克       hè dá kè       he da ke\n",
       "4     kraus   克劳斯      kè láo sī      ke lao si"
      ]
     },
     "execution_count": 10,
     "metadata": {},
     "output_type": "execute_result"
    }
   ],
   "source": [
    "tra.head(5)"
   ]
  },
  {
   "cell_type": "code",
   "execution_count": 14,
   "metadata": {},
   "outputs": [],
   "source": [
    "with open('tt.txt', 'w+', encoding='UTF-8-sig') as t:\n",
    "    t.writelines(\"\\n\".join(tra['en'].to_list()))"
   ]
  },
  {
   "cell_type": "code",
   "execution_count": 27,
   "metadata": {},
   "outputs": [],
   "source": [
    "# transfer one column of data frame into text\n",
    "def column_to_text(column, tag=None):\n",
    "    \n",
    "    # handle exception\n",
    "    if not tag:\n",
    "        print('There is no tag specified!')\n",
    "        return\n",
    "    \n",
    "    with open('temp/' + tag + '.txt', 'w+', encoding='UTF-8') as f:\n",
    "        f.writelines(\"\\n\".join(column.to_list()))\n",
    "        \n",
    "# testing\n",
    "column_to_text(tra['en'], 'tt')"
   ]
  },
  {
   "cell_type": "code",
   "execution_count": 28,
   "metadata": {},
   "outputs": [
    {
     "data": {
      "text/plain": [
       "0          s e d g e s\n",
       "1      a n d o l s e k\n",
       "2    m a c t r a d e r\n",
       "Name: en, dtype: object"
      ]
     },
     "execution_count": 28,
     "metadata": {},
     "output_type": "execute_result"
    }
   ],
   "source": [
    "def spaces_padding(column):\n",
    "    return column.apply(lambda w: ' '.join(w))\n",
    "\n",
    "spaces_padding(tst['en']).head(3)"
   ]
  },
  {
   "cell_type": "code",
   "execution_count": 29,
   "metadata": {},
   "outputs": [],
   "source": [
    "def df_to_text(df, tag=None):\n",
    "    \n",
    "    # handle exception\n",
    "    if not tag:\n",
    "        print('There is no tag specified!')\n",
    "        return\n",
    "    \n",
    "    cols = ['en', 'ch', 'pinyin', 'pinyin_no_tone']\n",
    "    for col in cols:\n",
    "        tmp_tag = col + '_' + tag\n",
    "        column = df[col]\n",
    "        if col == 'en' or col =='ch':\n",
    "            column = spaces_padding(column)\n",
    "        column_to_text(column, tag=tmp_tag)"
   ]
  },
  {
   "cell_type": "code",
   "execution_count": 31,
   "metadata": {},
   "outputs": [],
   "source": [
    "df_to_text(tst, 'tst')"
   ]
  },
  {
   "cell_type": "code",
   "execution_count": 35,
   "metadata": {},
   "outputs": [],
   "source": [
    "df_to_text(tra, 'tra')"
   ]
  },
  {
   "cell_type": "code",
   "execution_count": 34,
   "metadata": {},
   "outputs": [],
   "source": [
    "df_to_text(dev, 'dev')"
   ]
  }
 ],
 "metadata": {
  "kernelspec": {
   "display_name": "Python 3",
   "language": "python",
   "name": "python3"
  },
  "language_info": {
   "codemirror_mode": {
    "name": "ipython",
    "version": 3
   },
   "file_extension": ".py",
   "mimetype": "text/x-python",
   "name": "python",
   "nbconvert_exporter": "python",
   "pygments_lexer": "ipython3",
   "version": "3.7.3"
  }
 },
 "nbformat": 4,
 "nbformat_minor": 2
}
